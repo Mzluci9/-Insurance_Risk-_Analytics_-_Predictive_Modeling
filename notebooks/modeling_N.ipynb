{
 "cells": [
  {
   "cell_type": "code",
   "execution_count": 2,
   "id": "48c09edd",
   "metadata": {},
   "outputs": [],
   "source": [
    "# Import necessary libraries\n",
    "import sys\n",
    "sys.path.append('../src')  # Add the src directory to the system path\n",
    "\n",
    "from load_data import Loaddata\n",
    "from check_data_quality import checkdataquality\n",
    "from clean_data_processing import cleandataprocessing\n",
    "\n",
    "import pandas as pd\n",
    "import numpy as np\n",
    "import matplotlib.pyplot as plt\n",
    "import seaborn as sns\n",
    "\n",
    "from sklearn.preprocessing import LabelEncoder\n",
    "from sklearn.preprocessing import StandardScaler, MinMaxScaler\n",
    "from sklearn.model_selection import train_test_split\n",
    "from sklearn.model_selection import GridSearchCV\n",
    "from sklearn.linear_model import LinearRegression\n",
    "from sklearn.tree import DecisionTreeRegressor\n",
    "from sklearn.ensemble import RandomForestRegressor\n",
    "from sklearn.metrics import mean_absolute_error, mean_squared_error,r2_score,f1_score\n",
    "import xgboost as xgb"
   ]
  },
  {
   "cell_type": "code",
   "execution_count": 3,
   "id": "dfcf395c",
   "metadata": {},
   "outputs": [
    {
     "name": "stdout",
     "output_type": "stream",
     "text": [
      "Data loaded successfully.\n",
      "   UnderwrittenCoverID  PolicyID     TransactionMonth  IsVATRegistered  \\\n",
      "0               145249     12827  2015-03-01 00:00:00             True   \n",
      "1               145249     12827  2015-05-01 00:00:00             True   \n",
      "2               145249     12827  2015-07-01 00:00:00             True   \n",
      "3               145255     12827  2015-05-01 00:00:00             True   \n",
      "4               145255     12827  2015-07-01 00:00:00             True   \n",
      "\n",
      "  Citizenship          LegalType Title Language                 Bank  \\\n",
      "0              Close Corporation    Mr  English  First National Bank   \n",
      "1              Close Corporation    Mr  English  First National Bank   \n",
      "2              Close Corporation    Mr  English  First National Bank   \n",
      "3              Close Corporation    Mr  English  First National Bank   \n",
      "4              Close Corporation    Mr  English  First National Bank   \n",
      "\n",
      "       AccountType  ...                    ExcessSelected CoverCategory  \\\n",
      "0  Current account  ...             Mobility - Windscreen    Windscreen   \n",
      "1  Current account  ...             Mobility - Windscreen    Windscreen   \n",
      "2  Current account  ...             Mobility - Windscreen    Windscreen   \n",
      "3  Current account  ...  Mobility - Metered Taxis - R2000    Own damage   \n",
      "4  Current account  ...  Mobility - Metered Taxis - R2000    Own damage   \n",
      "\n",
      "    CoverType            CoverGroup              Section  \\\n",
      "0  Windscreen  Comprehensive - Taxi  Motor Comprehensive   \n",
      "1  Windscreen  Comprehensive - Taxi  Motor Comprehensive   \n",
      "2  Windscreen  Comprehensive - Taxi  Motor Comprehensive   \n",
      "3  Own Damage  Comprehensive - Taxi  Motor Comprehensive   \n",
      "4  Own Damage  Comprehensive - Taxi  Motor Comprehensive   \n",
      "\n",
      "                           Product StatutoryClass StatutoryRiskType  \\\n",
      "0  Mobility Metered Taxis: Monthly     Commercial     IFRS Constant   \n",
      "1  Mobility Metered Taxis: Monthly     Commercial     IFRS Constant   \n",
      "2  Mobility Metered Taxis: Monthly     Commercial     IFRS Constant   \n",
      "3  Mobility Metered Taxis: Monthly     Commercial     IFRS Constant   \n",
      "4  Mobility Metered Taxis: Monthly     Commercial     IFRS Constant   \n",
      "\n",
      "   TotalPremium TotalClaims  \n",
      "0     21.929825         0.0  \n",
      "1     21.929825         0.0  \n",
      "2      0.000000         0.0  \n",
      "3    512.848070         0.0  \n",
      "4      0.000000         0.0  \n",
      "\n",
      "[5 rows x 52 columns]\n"
     ]
    }
   ],
   "source": [
    "file_path = '../data/MachineLearningRating_v3.txt'\n",
    "load_data = Loaddata(file_path)\n",
    "data = load_data.load_data()\n",
    "print(\"Data loaded successfully.\")\n",
    "print(data.head())"
   ]
  },
  {
   "cell_type": "code",
   "execution_count": 4,
   "id": "a7572b19",
   "metadata": {},
   "outputs": [
    {
     "name": "stdout",
     "output_type": "stream",
     "text": [
      "<class 'pandas.core.frame.DataFrame'>\n",
      "RangeIndex: 1000098 entries, 0 to 1000097\n",
      "Data columns (total 52 columns):\n",
      " #   Column                    Non-Null Count    Dtype  \n",
      "---  ------                    --------------    -----  \n",
      " 0   UnderwrittenCoverID       1000098 non-null  int64  \n",
      " 1   PolicyID                  1000098 non-null  int64  \n",
      " 2   TransactionMonth          1000098 non-null  object \n",
      " 3   IsVATRegistered           1000098 non-null  bool   \n",
      " 4   Citizenship               1000098 non-null  object \n",
      " 5   LegalType                 1000098 non-null  object \n",
      " 6   Title                     1000098 non-null  object \n",
      " 7   Language                  1000098 non-null  object \n",
      " 8   Bank                      854137 non-null   object \n",
      " 9   AccountType               959866 non-null   object \n",
      " 10  MaritalStatus             991839 non-null   object \n",
      " 11  Gender                    990562 non-null   object \n",
      " 12  Country                   1000098 non-null  object \n",
      " 13  Province                  1000098 non-null  object \n",
      " 14  PostalCode                1000098 non-null  int64  \n",
      " 15  MainCrestaZone            1000098 non-null  object \n",
      " 16  SubCrestaZone             1000098 non-null  object \n",
      " 17  ItemType                  1000098 non-null  object \n",
      " 18  mmcode                    999546 non-null   float64\n",
      " 19  VehicleType               999546 non-null   object \n",
      " 20  RegistrationYear          1000098 non-null  int64  \n",
      " 21  make                      999546 non-null   object \n",
      " 22  Model                     999546 non-null   object \n",
      " 23  Cylinders                 999546 non-null   float64\n",
      " 24  cubiccapacity             999546 non-null   float64\n",
      " 25  kilowatts                 999546 non-null   float64\n",
      " 26  bodytype                  999546 non-null   object \n",
      " 27  NumberOfDoors             999546 non-null   float64\n",
      " 28  VehicleIntroDate          999546 non-null   object \n",
      " 29  CustomValueEstimate       220456 non-null   float64\n",
      " 30  AlarmImmobiliser          1000098 non-null  object \n",
      " 31  TrackingDevice            1000098 non-null  object \n",
      " 32  CapitalOutstanding        1000096 non-null  object \n",
      " 33  NewVehicle                846803 non-null   object \n",
      " 34  WrittenOff                358197 non-null   object \n",
      " 35  Rebuilt                   358197 non-null   object \n",
      " 36  Converted                 358197 non-null   object \n",
      " 37  CrossBorder               698 non-null      object \n",
      " 38  NumberOfVehiclesInFleet   0 non-null        float64\n",
      " 39  SumInsured                1000098 non-null  float64\n",
      " 40  TermFrequency             1000098 non-null  object \n",
      " 41  CalculatedPremiumPerTerm  1000098 non-null  float64\n",
      " 42  ExcessSelected            1000098 non-null  object \n",
      " 43  CoverCategory             1000098 non-null  object \n",
      " 44  CoverType                 1000098 non-null  object \n",
      " 45  CoverGroup                1000098 non-null  object \n",
      " 46  Section                   1000098 non-null  object \n",
      " 47  Product                   1000098 non-null  object \n",
      " 48  StatutoryClass            1000098 non-null  object \n",
      " 49  StatutoryRiskType         1000098 non-null  object \n",
      " 50  TotalPremium              1000098 non-null  float64\n",
      " 51  TotalClaims               1000098 non-null  float64\n",
      "dtypes: bool(1), float64(11), int64(4), object(36)\n",
      "memory usage: 390.1+ MB\n",
      "None\n",
      "       UnderwrittenCoverID      PolicyID    PostalCode        mmcode  \\\n",
      "count         1.000098e+06  1.000098e+06  1.000098e+06  9.995460e+05   \n",
      "mean          1.048175e+05  7.956682e+03  3.020601e+03  5.487770e+07   \n",
      "std           6.329371e+04  5.290039e+03  2.649854e+03  1.360381e+07   \n",
      "min           1.000000e+00  1.400000e+01  1.000000e+00  4.041200e+06   \n",
      "25%           5.514300e+04  4.500000e+03  8.270000e+02  6.005692e+07   \n",
      "50%           9.408300e+04  7.071000e+03  2.000000e+03  6.005842e+07   \n",
      "75%           1.391900e+05  1.107700e+04  4.180000e+03  6.005842e+07   \n",
      "max           3.011750e+05  2.324600e+04  9.870000e+03  6.506535e+07   \n",
      "\n",
      "       RegistrationYear      Cylinders  cubiccapacity      kilowatts  \\\n",
      "count      1.000098e+06  999546.000000  999546.000000  999546.000000   \n",
      "mean       2.010225e+03       4.046642    2466.743258      97.207919   \n",
      "std        3.261391e+00       0.294020     442.800640      19.393256   \n",
      "min        1.987000e+03       0.000000       0.000000       0.000000   \n",
      "25%        2.008000e+03       4.000000    2237.000000      75.000000   \n",
      "50%        2.011000e+03       4.000000    2694.000000     111.000000   \n",
      "75%        2.013000e+03       4.000000    2694.000000     111.000000   \n",
      "max        2.015000e+03      10.000000   12880.000000     309.000000   \n",
      "\n",
      "       NumberOfDoors  CustomValueEstimate  NumberOfVehiclesInFleet  \\\n",
      "count  999546.000000         2.204560e+05                      0.0   \n",
      "mean        4.019250         2.255311e+05                      NaN   \n",
      "std         0.468314         5.645157e+05                      NaN   \n",
      "min         0.000000         2.000000e+04                      NaN   \n",
      "25%         4.000000         1.350000e+05                      NaN   \n",
      "50%         4.000000         2.200000e+05                      NaN   \n",
      "75%         4.000000         2.800000e+05                      NaN   \n",
      "max         6.000000         2.655000e+07                      NaN   \n",
      "\n",
      "         SumInsured  CalculatedPremiumPerTerm  TotalPremium   TotalClaims  \n",
      "count  1.000098e+06              1.000098e+06  1.000098e+06  1.000098e+06  \n",
      "mean   6.041727e+05              1.178757e+02  6.190550e+01  6.486119e+01  \n",
      "std    1.508332e+06              3.997017e+02  2.302845e+02  2.384075e+03  \n",
      "min    1.000000e-02              0.000000e+00 -7.825768e+02 -1.200241e+04  \n",
      "25%    5.000000e+03              3.224800e+00  0.000000e+00  0.000000e+00  \n",
      "50%    7.500000e+03              8.436900e+00  2.178333e+00  0.000000e+00  \n",
      "75%    2.500000e+05              9.000000e+01  2.192982e+01  0.000000e+00  \n",
      "max    1.263620e+07              7.442217e+04  6.528260e+04  3.930921e+05  \n"
     ]
    },
    {
     "data": {
      "application/vnd.microsoft.datawrangler.viewer.v0+json": {
       "columns": [
        {
         "name": "index",
         "rawType": "int64",
         "type": "integer"
        },
        {
         "name": "UnderwrittenCoverID",
         "rawType": "int64",
         "type": "integer"
        },
        {
         "name": "PolicyID",
         "rawType": "int64",
         "type": "integer"
        },
        {
         "name": "TransactionMonth",
         "rawType": "object",
         "type": "string"
        },
        {
         "name": "IsVATRegistered",
         "rawType": "bool",
         "type": "boolean"
        },
        {
         "name": "Citizenship",
         "rawType": "object",
         "type": "string"
        },
        {
         "name": "LegalType",
         "rawType": "object",
         "type": "string"
        },
        {
         "name": "Title",
         "rawType": "object",
         "type": "string"
        },
        {
         "name": "Language",
         "rawType": "object",
         "type": "string"
        },
        {
         "name": "Bank",
         "rawType": "object",
         "type": "string"
        },
        {
         "name": "AccountType",
         "rawType": "object",
         "type": "string"
        },
        {
         "name": "MaritalStatus",
         "rawType": "object",
         "type": "string"
        },
        {
         "name": "Gender",
         "rawType": "object",
         "type": "string"
        },
        {
         "name": "Country",
         "rawType": "object",
         "type": "string"
        },
        {
         "name": "Province",
         "rawType": "object",
         "type": "string"
        },
        {
         "name": "PostalCode",
         "rawType": "int64",
         "type": "integer"
        },
        {
         "name": "MainCrestaZone",
         "rawType": "object",
         "type": "string"
        },
        {
         "name": "SubCrestaZone",
         "rawType": "object",
         "type": "string"
        },
        {
         "name": "ItemType",
         "rawType": "object",
         "type": "string"
        },
        {
         "name": "mmcode",
         "rawType": "float64",
         "type": "float"
        },
        {
         "name": "VehicleType",
         "rawType": "object",
         "type": "string"
        },
        {
         "name": "RegistrationYear",
         "rawType": "int64",
         "type": "integer"
        },
        {
         "name": "make",
         "rawType": "object",
         "type": "string"
        },
        {
         "name": "Model",
         "rawType": "object",
         "type": "string"
        },
        {
         "name": "Cylinders",
         "rawType": "float64",
         "type": "float"
        },
        {
         "name": "cubiccapacity",
         "rawType": "float64",
         "type": "float"
        },
        {
         "name": "kilowatts",
         "rawType": "float64",
         "type": "float"
        },
        {
         "name": "bodytype",
         "rawType": "object",
         "type": "string"
        },
        {
         "name": "NumberOfDoors",
         "rawType": "float64",
         "type": "float"
        },
        {
         "name": "VehicleIntroDate",
         "rawType": "object",
         "type": "string"
        },
        {
         "name": "CustomValueEstimate",
         "rawType": "float64",
         "type": "float"
        },
        {
         "name": "AlarmImmobiliser",
         "rawType": "object",
         "type": "string"
        },
        {
         "name": "TrackingDevice",
         "rawType": "object",
         "type": "string"
        },
        {
         "name": "CapitalOutstanding",
         "rawType": "object",
         "type": "string"
        },
        {
         "name": "NewVehicle",
         "rawType": "object",
         "type": "string"
        },
        {
         "name": "WrittenOff",
         "rawType": "object",
         "type": "unknown"
        },
        {
         "name": "Rebuilt",
         "rawType": "object",
         "type": "unknown"
        },
        {
         "name": "Converted",
         "rawType": "object",
         "type": "unknown"
        },
        {
         "name": "CrossBorder",
         "rawType": "object",
         "type": "unknown"
        },
        {
         "name": "NumberOfVehiclesInFleet",
         "rawType": "float64",
         "type": "float"
        },
        {
         "name": "SumInsured",
         "rawType": "float64",
         "type": "float"
        },
        {
         "name": "TermFrequency",
         "rawType": "object",
         "type": "string"
        },
        {
         "name": "CalculatedPremiumPerTerm",
         "rawType": "float64",
         "type": "float"
        },
        {
         "name": "ExcessSelected",
         "rawType": "object",
         "type": "string"
        },
        {
         "name": "CoverCategory",
         "rawType": "object",
         "type": "string"
        },
        {
         "name": "CoverType",
         "rawType": "object",
         "type": "string"
        },
        {
         "name": "CoverGroup",
         "rawType": "object",
         "type": "string"
        },
        {
         "name": "Section",
         "rawType": "object",
         "type": "string"
        },
        {
         "name": "Product",
         "rawType": "object",
         "type": "string"
        },
        {
         "name": "StatutoryClass",
         "rawType": "object",
         "type": "string"
        },
        {
         "name": "StatutoryRiskType",
         "rawType": "object",
         "type": "string"
        },
        {
         "name": "TotalPremium",
         "rawType": "float64",
         "type": "float"
        },
        {
         "name": "TotalClaims",
         "rawType": "float64",
         "type": "float"
        }
       ],
       "ref": "fbcbfc38-fe8f-4f49-a49a-d2b2b12699c5",
       "rows": [
        [
         "0",
         "145249",
         "12827",
         "2015-03-01 00:00:00",
         "True",
         "  ",
         "Close Corporation",
         "Mr",
         "English",
         "First National Bank",
         "Current account",
         "Not specified",
         "Not specified",
         "South Africa",
         "Gauteng",
         "1459",
         "Rand East",
         "Rand East",
         "Mobility - Motor",
         "44069150.0",
         "Passenger Vehicle",
         "2004",
         "MERCEDES-BENZ",
         "E 240",
         "6.0",
         "2597.0",
         "130.0",
         "S/D",
         "4.0",
         "6/2002",
         "119300.0",
         "Yes",
         "No",
         "119300",
         "More than 6 months",
         null,
         null,
         null,
         null,
         null,
         "0.01",
         "Monthly",
         "25.0",
         "Mobility - Windscreen",
         "Windscreen",
         "Windscreen",
         "Comprehensive - Taxi",
         "Motor Comprehensive",
         "Mobility Metered Taxis: Monthly",
         "Commercial",
         "IFRS Constant",
         "21.929824561403",
         "0.0"
        ],
        [
         "1",
         "145249",
         "12827",
         "2015-05-01 00:00:00",
         "True",
         "  ",
         "Close Corporation",
         "Mr",
         "English",
         "First National Bank",
         "Current account",
         "Not specified",
         "Not specified",
         "South Africa",
         "Gauteng",
         "1459",
         "Rand East",
         "Rand East",
         "Mobility - Motor",
         "44069150.0",
         "Passenger Vehicle",
         "2004",
         "MERCEDES-BENZ",
         "E 240",
         "6.0",
         "2597.0",
         "130.0",
         "S/D",
         "4.0",
         "6/2002",
         "119300.0",
         "Yes",
         "No",
         "119300",
         "More than 6 months",
         null,
         null,
         null,
         null,
         null,
         "0.01",
         "Monthly",
         "25.0",
         "Mobility - Windscreen",
         "Windscreen",
         "Windscreen",
         "Comprehensive - Taxi",
         "Motor Comprehensive",
         "Mobility Metered Taxis: Monthly",
         "Commercial",
         "IFRS Constant",
         "21.929824561403",
         "0.0"
        ],
        [
         "2",
         "145249",
         "12827",
         "2015-07-01 00:00:00",
         "True",
         "  ",
         "Close Corporation",
         "Mr",
         "English",
         "First National Bank",
         "Current account",
         "Not specified",
         "Not specified",
         "South Africa",
         "Gauteng",
         "1459",
         "Rand East",
         "Rand East",
         "Mobility - Motor",
         "44069150.0",
         "Passenger Vehicle",
         "2004",
         "MERCEDES-BENZ",
         "E 240",
         "6.0",
         "2597.0",
         "130.0",
         "S/D",
         "4.0",
         "6/2002",
         "119300.0",
         "Yes",
         "No",
         "119300",
         "More than 6 months",
         null,
         null,
         null,
         null,
         null,
         "0.01",
         "Monthly",
         "25.0",
         "Mobility - Windscreen",
         "Windscreen",
         "Windscreen",
         "Comprehensive - Taxi",
         "Motor Comprehensive",
         "Mobility Metered Taxis: Monthly",
         "Commercial",
         "IFRS Constant",
         "0.0",
         "0.0"
        ],
        [
         "3",
         "145255",
         "12827",
         "2015-05-01 00:00:00",
         "True",
         "  ",
         "Close Corporation",
         "Mr",
         "English",
         "First National Bank",
         "Current account",
         "Not specified",
         "Not specified",
         "South Africa",
         "Gauteng",
         "1459",
         "Rand East",
         "Rand East",
         "Mobility - Motor",
         "44069150.0",
         "Passenger Vehicle",
         "2004",
         "MERCEDES-BENZ",
         "E 240",
         "6.0",
         "2597.0",
         "130.0",
         "S/D",
         "4.0",
         "6/2002",
         "119300.0",
         "Yes",
         "No",
         "119300",
         "More than 6 months",
         null,
         null,
         null,
         null,
         null,
         "119300.0",
         "Monthly",
         "584.6468",
         "Mobility - Metered Taxis - R2000",
         "Own damage",
         "Own Damage",
         "Comprehensive - Taxi",
         "Motor Comprehensive",
         "Mobility Metered Taxis: Monthly",
         "Commercial",
         "IFRS Constant",
         "512.848070175439",
         "0.0"
        ],
        [
         "4",
         "145255",
         "12827",
         "2015-07-01 00:00:00",
         "True",
         "  ",
         "Close Corporation",
         "Mr",
         "English",
         "First National Bank",
         "Current account",
         "Not specified",
         "Not specified",
         "South Africa",
         "Gauteng",
         "1459",
         "Rand East",
         "Rand East",
         "Mobility - Motor",
         "44069150.0",
         "Passenger Vehicle",
         "2004",
         "MERCEDES-BENZ",
         "E 240",
         "6.0",
         "2597.0",
         "130.0",
         "S/D",
         "4.0",
         "6/2002",
         "119300.0",
         "Yes",
         "No",
         "119300",
         "More than 6 months",
         null,
         null,
         null,
         null,
         null,
         "119300.0",
         "Monthly",
         "584.6468",
         "Mobility - Metered Taxis - R2000",
         "Own damage",
         "Own Damage",
         "Comprehensive - Taxi",
         "Motor Comprehensive",
         "Mobility Metered Taxis: Monthly",
         "Commercial",
         "IFRS Constant",
         "0.0",
         "0.0"
        ]
       ],
       "shape": {
        "columns": 52,
        "rows": 5
       }
      },
      "text/html": [
       "<div>\n",
       "<style scoped>\n",
       "    .dataframe tbody tr th:only-of-type {\n",
       "        vertical-align: middle;\n",
       "    }\n",
       "\n",
       "    .dataframe tbody tr th {\n",
       "        vertical-align: top;\n",
       "    }\n",
       "\n",
       "    .dataframe thead th {\n",
       "        text-align: right;\n",
       "    }\n",
       "</style>\n",
       "<table border=\"1\" class=\"dataframe\">\n",
       "  <thead>\n",
       "    <tr style=\"text-align: right;\">\n",
       "      <th></th>\n",
       "      <th>UnderwrittenCoverID</th>\n",
       "      <th>PolicyID</th>\n",
       "      <th>TransactionMonth</th>\n",
       "      <th>IsVATRegistered</th>\n",
       "      <th>Citizenship</th>\n",
       "      <th>LegalType</th>\n",
       "      <th>Title</th>\n",
       "      <th>Language</th>\n",
       "      <th>Bank</th>\n",
       "      <th>AccountType</th>\n",
       "      <th>...</th>\n",
       "      <th>ExcessSelected</th>\n",
       "      <th>CoverCategory</th>\n",
       "      <th>CoverType</th>\n",
       "      <th>CoverGroup</th>\n",
       "      <th>Section</th>\n",
       "      <th>Product</th>\n",
       "      <th>StatutoryClass</th>\n",
       "      <th>StatutoryRiskType</th>\n",
       "      <th>TotalPremium</th>\n",
       "      <th>TotalClaims</th>\n",
       "    </tr>\n",
       "  </thead>\n",
       "  <tbody>\n",
       "    <tr>\n",
       "      <th>0</th>\n",
       "      <td>145249</td>\n",
       "      <td>12827</td>\n",
       "      <td>2015-03-01 00:00:00</td>\n",
       "      <td>True</td>\n",
       "      <td></td>\n",
       "      <td>Close Corporation</td>\n",
       "      <td>Mr</td>\n",
       "      <td>English</td>\n",
       "      <td>First National Bank</td>\n",
       "      <td>Current account</td>\n",
       "      <td>...</td>\n",
       "      <td>Mobility - Windscreen</td>\n",
       "      <td>Windscreen</td>\n",
       "      <td>Windscreen</td>\n",
       "      <td>Comprehensive - Taxi</td>\n",
       "      <td>Motor Comprehensive</td>\n",
       "      <td>Mobility Metered Taxis: Monthly</td>\n",
       "      <td>Commercial</td>\n",
       "      <td>IFRS Constant</td>\n",
       "      <td>21.929825</td>\n",
       "      <td>0.0</td>\n",
       "    </tr>\n",
       "    <tr>\n",
       "      <th>1</th>\n",
       "      <td>145249</td>\n",
       "      <td>12827</td>\n",
       "      <td>2015-05-01 00:00:00</td>\n",
       "      <td>True</td>\n",
       "      <td></td>\n",
       "      <td>Close Corporation</td>\n",
       "      <td>Mr</td>\n",
       "      <td>English</td>\n",
       "      <td>First National Bank</td>\n",
       "      <td>Current account</td>\n",
       "      <td>...</td>\n",
       "      <td>Mobility - Windscreen</td>\n",
       "      <td>Windscreen</td>\n",
       "      <td>Windscreen</td>\n",
       "      <td>Comprehensive - Taxi</td>\n",
       "      <td>Motor Comprehensive</td>\n",
       "      <td>Mobility Metered Taxis: Monthly</td>\n",
       "      <td>Commercial</td>\n",
       "      <td>IFRS Constant</td>\n",
       "      <td>21.929825</td>\n",
       "      <td>0.0</td>\n",
       "    </tr>\n",
       "    <tr>\n",
       "      <th>2</th>\n",
       "      <td>145249</td>\n",
       "      <td>12827</td>\n",
       "      <td>2015-07-01 00:00:00</td>\n",
       "      <td>True</td>\n",
       "      <td></td>\n",
       "      <td>Close Corporation</td>\n",
       "      <td>Mr</td>\n",
       "      <td>English</td>\n",
       "      <td>First National Bank</td>\n",
       "      <td>Current account</td>\n",
       "      <td>...</td>\n",
       "      <td>Mobility - Windscreen</td>\n",
       "      <td>Windscreen</td>\n",
       "      <td>Windscreen</td>\n",
       "      <td>Comprehensive - Taxi</td>\n",
       "      <td>Motor Comprehensive</td>\n",
       "      <td>Mobility Metered Taxis: Monthly</td>\n",
       "      <td>Commercial</td>\n",
       "      <td>IFRS Constant</td>\n",
       "      <td>0.000000</td>\n",
       "      <td>0.0</td>\n",
       "    </tr>\n",
       "    <tr>\n",
       "      <th>3</th>\n",
       "      <td>145255</td>\n",
       "      <td>12827</td>\n",
       "      <td>2015-05-01 00:00:00</td>\n",
       "      <td>True</td>\n",
       "      <td></td>\n",
       "      <td>Close Corporation</td>\n",
       "      <td>Mr</td>\n",
       "      <td>English</td>\n",
       "      <td>First National Bank</td>\n",
       "      <td>Current account</td>\n",
       "      <td>...</td>\n",
       "      <td>Mobility - Metered Taxis - R2000</td>\n",
       "      <td>Own damage</td>\n",
       "      <td>Own Damage</td>\n",
       "      <td>Comprehensive - Taxi</td>\n",
       "      <td>Motor Comprehensive</td>\n",
       "      <td>Mobility Metered Taxis: Monthly</td>\n",
       "      <td>Commercial</td>\n",
       "      <td>IFRS Constant</td>\n",
       "      <td>512.848070</td>\n",
       "      <td>0.0</td>\n",
       "    </tr>\n",
       "    <tr>\n",
       "      <th>4</th>\n",
       "      <td>145255</td>\n",
       "      <td>12827</td>\n",
       "      <td>2015-07-01 00:00:00</td>\n",
       "      <td>True</td>\n",
       "      <td></td>\n",
       "      <td>Close Corporation</td>\n",
       "      <td>Mr</td>\n",
       "      <td>English</td>\n",
       "      <td>First National Bank</td>\n",
       "      <td>Current account</td>\n",
       "      <td>...</td>\n",
       "      <td>Mobility - Metered Taxis - R2000</td>\n",
       "      <td>Own damage</td>\n",
       "      <td>Own Damage</td>\n",
       "      <td>Comprehensive - Taxi</td>\n",
       "      <td>Motor Comprehensive</td>\n",
       "      <td>Mobility Metered Taxis: Monthly</td>\n",
       "      <td>Commercial</td>\n",
       "      <td>IFRS Constant</td>\n",
       "      <td>0.000000</td>\n",
       "      <td>0.0</td>\n",
       "    </tr>\n",
       "  </tbody>\n",
       "</table>\n",
       "<p>5 rows × 52 columns</p>\n",
       "</div>"
      ],
      "text/plain": [
       "   UnderwrittenCoverID  PolicyID     TransactionMonth  IsVATRegistered  \\\n",
       "0               145249     12827  2015-03-01 00:00:00             True   \n",
       "1               145249     12827  2015-05-01 00:00:00             True   \n",
       "2               145249     12827  2015-07-01 00:00:00             True   \n",
       "3               145255     12827  2015-05-01 00:00:00             True   \n",
       "4               145255     12827  2015-07-01 00:00:00             True   \n",
       "\n",
       "  Citizenship          LegalType Title Language                 Bank  \\\n",
       "0              Close Corporation    Mr  English  First National Bank   \n",
       "1              Close Corporation    Mr  English  First National Bank   \n",
       "2              Close Corporation    Mr  English  First National Bank   \n",
       "3              Close Corporation    Mr  English  First National Bank   \n",
       "4              Close Corporation    Mr  English  First National Bank   \n",
       "\n",
       "       AccountType  ...                    ExcessSelected CoverCategory  \\\n",
       "0  Current account  ...             Mobility - Windscreen    Windscreen   \n",
       "1  Current account  ...             Mobility - Windscreen    Windscreen   \n",
       "2  Current account  ...             Mobility - Windscreen    Windscreen   \n",
       "3  Current account  ...  Mobility - Metered Taxis - R2000    Own damage   \n",
       "4  Current account  ...  Mobility - Metered Taxis - R2000    Own damage   \n",
       "\n",
       "    CoverType            CoverGroup              Section  \\\n",
       "0  Windscreen  Comprehensive - Taxi  Motor Comprehensive   \n",
       "1  Windscreen  Comprehensive - Taxi  Motor Comprehensive   \n",
       "2  Windscreen  Comprehensive - Taxi  Motor Comprehensive   \n",
       "3  Own Damage  Comprehensive - Taxi  Motor Comprehensive   \n",
       "4  Own Damage  Comprehensive - Taxi  Motor Comprehensive   \n",
       "\n",
       "                           Product StatutoryClass StatutoryRiskType  \\\n",
       "0  Mobility Metered Taxis: Monthly     Commercial     IFRS Constant   \n",
       "1  Mobility Metered Taxis: Monthly     Commercial     IFRS Constant   \n",
       "2  Mobility Metered Taxis: Monthly     Commercial     IFRS Constant   \n",
       "3  Mobility Metered Taxis: Monthly     Commercial     IFRS Constant   \n",
       "4  Mobility Metered Taxis: Monthly     Commercial     IFRS Constant   \n",
       "\n",
       "   TotalPremium TotalClaims  \n",
       "0     21.929825         0.0  \n",
       "1     21.929825         0.0  \n",
       "2      0.000000         0.0  \n",
       "3    512.848070         0.0  \n",
       "4      0.000000         0.0  \n",
       "\n",
       "[5 rows x 52 columns]"
      ]
     },
     "execution_count": 4,
     "metadata": {},
     "output_type": "execute_result"
    }
   ],
   "source": [
    "load_data.basic_info()\n",
    "load_data.display_head()"
   ]
  },
  {
   "cell_type": "code",
   "execution_count": 5,
   "id": "e5c2db06",
   "metadata": {},
   "outputs": [
    {
     "name": "stdout",
     "output_type": "stream",
     "text": [
      "Verification of no missing values: True\n"
     ]
    }
   ],
   "source": [
    "# Clean the data\n",
    "data_cleaner = cleandataprocessing(data)\n",
    "cleaned_data = data_cleaner.clean_missing_values()\n",
    "print(\"Verification of no missing values:\", data_cleaner.verify_no_missing_values())\n"
   ]
  },
  {
   "cell_type": "code",
   "execution_count": 6,
   "id": "35679bf2",
   "metadata": {},
   "outputs": [
    {
     "data": {
      "application/vnd.microsoft.datawrangler.viewer.v0+json": {
       "columns": [
        {
         "name": "index",
         "rawType": "int64",
         "type": "integer"
        },
        {
         "name": "UnderwrittenCoverID",
         "rawType": "int64",
         "type": "integer"
        },
        {
         "name": "PolicyID",
         "rawType": "int64",
         "type": "integer"
        },
        {
         "name": "TransactionMonth",
         "rawType": "object",
         "type": "string"
        },
        {
         "name": "IsVATRegistered",
         "rawType": "bool",
         "type": "boolean"
        },
        {
         "name": "Citizenship",
         "rawType": "object",
         "type": "string"
        },
        {
         "name": "LegalType",
         "rawType": "object",
         "type": "string"
        },
        {
         "name": "Title",
         "rawType": "object",
         "type": "string"
        },
        {
         "name": "Language",
         "rawType": "object",
         "type": "string"
        },
        {
         "name": "Bank",
         "rawType": "object",
         "type": "string"
        },
        {
         "name": "AccountType",
         "rawType": "object",
         "type": "string"
        },
        {
         "name": "MaritalStatus",
         "rawType": "object",
         "type": "string"
        },
        {
         "name": "Gender",
         "rawType": "object",
         "type": "string"
        },
        {
         "name": "Country",
         "rawType": "object",
         "type": "string"
        },
        {
         "name": "Province",
         "rawType": "object",
         "type": "string"
        },
        {
         "name": "PostalCode",
         "rawType": "int64",
         "type": "integer"
        },
        {
         "name": "MainCrestaZone",
         "rawType": "object",
         "type": "string"
        },
        {
         "name": "SubCrestaZone",
         "rawType": "object",
         "type": "string"
        },
        {
         "name": "ItemType",
         "rawType": "object",
         "type": "string"
        },
        {
         "name": "mmcode",
         "rawType": "float64",
         "type": "float"
        },
        {
         "name": "VehicleType",
         "rawType": "object",
         "type": "string"
        },
        {
         "name": "RegistrationYear",
         "rawType": "int64",
         "type": "integer"
        },
        {
         "name": "make",
         "rawType": "object",
         "type": "string"
        },
        {
         "name": "Model",
         "rawType": "object",
         "type": "string"
        },
        {
         "name": "Cylinders",
         "rawType": "float64",
         "type": "float"
        },
        {
         "name": "cubiccapacity",
         "rawType": "float64",
         "type": "float"
        },
        {
         "name": "kilowatts",
         "rawType": "float64",
         "type": "float"
        },
        {
         "name": "bodytype",
         "rawType": "object",
         "type": "string"
        },
        {
         "name": "NumberOfDoors",
         "rawType": "float64",
         "type": "float"
        },
        {
         "name": "VehicleIntroDate",
         "rawType": "object",
         "type": "string"
        },
        {
         "name": "AlarmImmobiliser",
         "rawType": "object",
         "type": "string"
        },
        {
         "name": "TrackingDevice",
         "rawType": "object",
         "type": "string"
        },
        {
         "name": "CapitalOutstanding",
         "rawType": "object",
         "type": "string"
        },
        {
         "name": "NewVehicle",
         "rawType": "object",
         "type": "string"
        },
        {
         "name": "SumInsured",
         "rawType": "float64",
         "type": "float"
        },
        {
         "name": "TermFrequency",
         "rawType": "object",
         "type": "string"
        },
        {
         "name": "CalculatedPremiumPerTerm",
         "rawType": "float64",
         "type": "float"
        },
        {
         "name": "ExcessSelected",
         "rawType": "object",
         "type": "string"
        },
        {
         "name": "CoverCategory",
         "rawType": "object",
         "type": "string"
        },
        {
         "name": "CoverType",
         "rawType": "object",
         "type": "string"
        },
        {
         "name": "CoverGroup",
         "rawType": "object",
         "type": "string"
        },
        {
         "name": "Section",
         "rawType": "object",
         "type": "string"
        },
        {
         "name": "Product",
         "rawType": "object",
         "type": "string"
        },
        {
         "name": "StatutoryClass",
         "rawType": "object",
         "type": "string"
        },
        {
         "name": "StatutoryRiskType",
         "rawType": "object",
         "type": "string"
        },
        {
         "name": "TotalPremium",
         "rawType": "float64",
         "type": "float"
        },
        {
         "name": "TotalClaims",
         "rawType": "float64",
         "type": "float"
        }
       ],
       "ref": "404ca940-23f9-4806-9286-b253810a91e0",
       "rows": [
        [
         "0",
         "145249",
         "12827",
         "2015-03-01 00:00:00",
         "True",
         "  ",
         "Close Corporation",
         "Mr",
         "English",
         "First National Bank",
         "Current account",
         "Not specified",
         "Not specified",
         "South Africa",
         "Gauteng",
         "1459",
         "Rand East",
         "Rand East",
         "Mobility - Motor",
         "44069150.0",
         "Passenger Vehicle",
         "2004",
         "MERCEDES-BENZ",
         "E 240",
         "6.0",
         "2597.0",
         "130.0",
         "S/D",
         "4.0",
         "6/2002",
         "Yes",
         "No",
         "119300",
         "More than 6 months",
         "0.01",
         "Monthly",
         "25.0",
         "Mobility - Windscreen",
         "Windscreen",
         "Windscreen",
         "Comprehensive - Taxi",
         "Motor Comprehensive",
         "Mobility Metered Taxis: Monthly",
         "Commercial",
         "IFRS Constant",
         "21.929824561403",
         "0.0"
        ],
        [
         "1",
         "145249",
         "12827",
         "2015-05-01 00:00:00",
         "True",
         "  ",
         "Close Corporation",
         "Mr",
         "English",
         "First National Bank",
         "Current account",
         "Not specified",
         "Not specified",
         "South Africa",
         "Gauteng",
         "1459",
         "Rand East",
         "Rand East",
         "Mobility - Motor",
         "44069150.0",
         "Passenger Vehicle",
         "2004",
         "MERCEDES-BENZ",
         "E 240",
         "6.0",
         "2597.0",
         "130.0",
         "S/D",
         "4.0",
         "6/2002",
         "Yes",
         "No",
         "119300",
         "More than 6 months",
         "0.01",
         "Monthly",
         "25.0",
         "Mobility - Windscreen",
         "Windscreen",
         "Windscreen",
         "Comprehensive - Taxi",
         "Motor Comprehensive",
         "Mobility Metered Taxis: Monthly",
         "Commercial",
         "IFRS Constant",
         "21.929824561403",
         "0.0"
        ],
        [
         "2",
         "145249",
         "12827",
         "2015-07-01 00:00:00",
         "True",
         "  ",
         "Close Corporation",
         "Mr",
         "English",
         "First National Bank",
         "Current account",
         "Not specified",
         "Not specified",
         "South Africa",
         "Gauteng",
         "1459",
         "Rand East",
         "Rand East",
         "Mobility - Motor",
         "44069150.0",
         "Passenger Vehicle",
         "2004",
         "MERCEDES-BENZ",
         "E 240",
         "6.0",
         "2597.0",
         "130.0",
         "S/D",
         "4.0",
         "6/2002",
         "Yes",
         "No",
         "119300",
         "More than 6 months",
         "0.01",
         "Monthly",
         "25.0",
         "Mobility - Windscreen",
         "Windscreen",
         "Windscreen",
         "Comprehensive - Taxi",
         "Motor Comprehensive",
         "Mobility Metered Taxis: Monthly",
         "Commercial",
         "IFRS Constant",
         "0.0",
         "0.0"
        ],
        [
         "3",
         "145255",
         "12827",
         "2015-05-01 00:00:00",
         "True",
         "  ",
         "Close Corporation",
         "Mr",
         "English",
         "First National Bank",
         "Current account",
         "Not specified",
         "Not specified",
         "South Africa",
         "Gauteng",
         "1459",
         "Rand East",
         "Rand East",
         "Mobility - Motor",
         "44069150.0",
         "Passenger Vehicle",
         "2004",
         "MERCEDES-BENZ",
         "E 240",
         "6.0",
         "2597.0",
         "130.0",
         "S/D",
         "4.0",
         "6/2002",
         "Yes",
         "No",
         "119300",
         "More than 6 months",
         "119300.0",
         "Monthly",
         "584.6468",
         "Mobility - Metered Taxis - R2000",
         "Own damage",
         "Own Damage",
         "Comprehensive - Taxi",
         "Motor Comprehensive",
         "Mobility Metered Taxis: Monthly",
         "Commercial",
         "IFRS Constant",
         "512.848070175439",
         "0.0"
        ],
        [
         "4",
         "145255",
         "12827",
         "2015-07-01 00:00:00",
         "True",
         "  ",
         "Close Corporation",
         "Mr",
         "English",
         "First National Bank",
         "Current account",
         "Not specified",
         "Not specified",
         "South Africa",
         "Gauteng",
         "1459",
         "Rand East",
         "Rand East",
         "Mobility - Motor",
         "44069150.0",
         "Passenger Vehicle",
         "2004",
         "MERCEDES-BENZ",
         "E 240",
         "6.0",
         "2597.0",
         "130.0",
         "S/D",
         "4.0",
         "6/2002",
         "Yes",
         "No",
         "119300",
         "More than 6 months",
         "119300.0",
         "Monthly",
         "584.6468",
         "Mobility - Metered Taxis - R2000",
         "Own damage",
         "Own Damage",
         "Comprehensive - Taxi",
         "Motor Comprehensive",
         "Mobility Metered Taxis: Monthly",
         "Commercial",
         "IFRS Constant",
         "0.0",
         "0.0"
        ]
       ],
       "shape": {
        "columns": 46,
        "rows": 5
       }
      },
      "text/html": [
       "<div>\n",
       "<style scoped>\n",
       "    .dataframe tbody tr th:only-of-type {\n",
       "        vertical-align: middle;\n",
       "    }\n",
       "\n",
       "    .dataframe tbody tr th {\n",
       "        vertical-align: top;\n",
       "    }\n",
       "\n",
       "    .dataframe thead th {\n",
       "        text-align: right;\n",
       "    }\n",
       "</style>\n",
       "<table border=\"1\" class=\"dataframe\">\n",
       "  <thead>\n",
       "    <tr style=\"text-align: right;\">\n",
       "      <th></th>\n",
       "      <th>UnderwrittenCoverID</th>\n",
       "      <th>PolicyID</th>\n",
       "      <th>TransactionMonth</th>\n",
       "      <th>IsVATRegistered</th>\n",
       "      <th>Citizenship</th>\n",
       "      <th>LegalType</th>\n",
       "      <th>Title</th>\n",
       "      <th>Language</th>\n",
       "      <th>Bank</th>\n",
       "      <th>AccountType</th>\n",
       "      <th>...</th>\n",
       "      <th>ExcessSelected</th>\n",
       "      <th>CoverCategory</th>\n",
       "      <th>CoverType</th>\n",
       "      <th>CoverGroup</th>\n",
       "      <th>Section</th>\n",
       "      <th>Product</th>\n",
       "      <th>StatutoryClass</th>\n",
       "      <th>StatutoryRiskType</th>\n",
       "      <th>TotalPremium</th>\n",
       "      <th>TotalClaims</th>\n",
       "    </tr>\n",
       "  </thead>\n",
       "  <tbody>\n",
       "    <tr>\n",
       "      <th>0</th>\n",
       "      <td>145249</td>\n",
       "      <td>12827</td>\n",
       "      <td>2015-03-01 00:00:00</td>\n",
       "      <td>True</td>\n",
       "      <td></td>\n",
       "      <td>Close Corporation</td>\n",
       "      <td>Mr</td>\n",
       "      <td>English</td>\n",
       "      <td>First National Bank</td>\n",
       "      <td>Current account</td>\n",
       "      <td>...</td>\n",
       "      <td>Mobility - Windscreen</td>\n",
       "      <td>Windscreen</td>\n",
       "      <td>Windscreen</td>\n",
       "      <td>Comprehensive - Taxi</td>\n",
       "      <td>Motor Comprehensive</td>\n",
       "      <td>Mobility Metered Taxis: Monthly</td>\n",
       "      <td>Commercial</td>\n",
       "      <td>IFRS Constant</td>\n",
       "      <td>21.929825</td>\n",
       "      <td>0.0</td>\n",
       "    </tr>\n",
       "    <tr>\n",
       "      <th>1</th>\n",
       "      <td>145249</td>\n",
       "      <td>12827</td>\n",
       "      <td>2015-05-01 00:00:00</td>\n",
       "      <td>True</td>\n",
       "      <td></td>\n",
       "      <td>Close Corporation</td>\n",
       "      <td>Mr</td>\n",
       "      <td>English</td>\n",
       "      <td>First National Bank</td>\n",
       "      <td>Current account</td>\n",
       "      <td>...</td>\n",
       "      <td>Mobility - Windscreen</td>\n",
       "      <td>Windscreen</td>\n",
       "      <td>Windscreen</td>\n",
       "      <td>Comprehensive - Taxi</td>\n",
       "      <td>Motor Comprehensive</td>\n",
       "      <td>Mobility Metered Taxis: Monthly</td>\n",
       "      <td>Commercial</td>\n",
       "      <td>IFRS Constant</td>\n",
       "      <td>21.929825</td>\n",
       "      <td>0.0</td>\n",
       "    </tr>\n",
       "    <tr>\n",
       "      <th>2</th>\n",
       "      <td>145249</td>\n",
       "      <td>12827</td>\n",
       "      <td>2015-07-01 00:00:00</td>\n",
       "      <td>True</td>\n",
       "      <td></td>\n",
       "      <td>Close Corporation</td>\n",
       "      <td>Mr</td>\n",
       "      <td>English</td>\n",
       "      <td>First National Bank</td>\n",
       "      <td>Current account</td>\n",
       "      <td>...</td>\n",
       "      <td>Mobility - Windscreen</td>\n",
       "      <td>Windscreen</td>\n",
       "      <td>Windscreen</td>\n",
       "      <td>Comprehensive - Taxi</td>\n",
       "      <td>Motor Comprehensive</td>\n",
       "      <td>Mobility Metered Taxis: Monthly</td>\n",
       "      <td>Commercial</td>\n",
       "      <td>IFRS Constant</td>\n",
       "      <td>0.000000</td>\n",
       "      <td>0.0</td>\n",
       "    </tr>\n",
       "    <tr>\n",
       "      <th>3</th>\n",
       "      <td>145255</td>\n",
       "      <td>12827</td>\n",
       "      <td>2015-05-01 00:00:00</td>\n",
       "      <td>True</td>\n",
       "      <td></td>\n",
       "      <td>Close Corporation</td>\n",
       "      <td>Mr</td>\n",
       "      <td>English</td>\n",
       "      <td>First National Bank</td>\n",
       "      <td>Current account</td>\n",
       "      <td>...</td>\n",
       "      <td>Mobility - Metered Taxis - R2000</td>\n",
       "      <td>Own damage</td>\n",
       "      <td>Own Damage</td>\n",
       "      <td>Comprehensive - Taxi</td>\n",
       "      <td>Motor Comprehensive</td>\n",
       "      <td>Mobility Metered Taxis: Monthly</td>\n",
       "      <td>Commercial</td>\n",
       "      <td>IFRS Constant</td>\n",
       "      <td>512.848070</td>\n",
       "      <td>0.0</td>\n",
       "    </tr>\n",
       "    <tr>\n",
       "      <th>4</th>\n",
       "      <td>145255</td>\n",
       "      <td>12827</td>\n",
       "      <td>2015-07-01 00:00:00</td>\n",
       "      <td>True</td>\n",
       "      <td></td>\n",
       "      <td>Close Corporation</td>\n",
       "      <td>Mr</td>\n",
       "      <td>English</td>\n",
       "      <td>First National Bank</td>\n",
       "      <td>Current account</td>\n",
       "      <td>...</td>\n",
       "      <td>Mobility - Metered Taxis - R2000</td>\n",
       "      <td>Own damage</td>\n",
       "      <td>Own Damage</td>\n",
       "      <td>Comprehensive - Taxi</td>\n",
       "      <td>Motor Comprehensive</td>\n",
       "      <td>Mobility Metered Taxis: Monthly</td>\n",
       "      <td>Commercial</td>\n",
       "      <td>IFRS Constant</td>\n",
       "      <td>0.000000</td>\n",
       "      <td>0.0</td>\n",
       "    </tr>\n",
       "  </tbody>\n",
       "</table>\n",
       "<p>5 rows × 46 columns</p>\n",
       "</div>"
      ],
      "text/plain": [
       "   UnderwrittenCoverID  PolicyID     TransactionMonth  IsVATRegistered  \\\n",
       "0               145249     12827  2015-03-01 00:00:00             True   \n",
       "1               145249     12827  2015-05-01 00:00:00             True   \n",
       "2               145249     12827  2015-07-01 00:00:00             True   \n",
       "3               145255     12827  2015-05-01 00:00:00             True   \n",
       "4               145255     12827  2015-07-01 00:00:00             True   \n",
       "\n",
       "  Citizenship          LegalType Title Language                 Bank  \\\n",
       "0              Close Corporation    Mr  English  First National Bank   \n",
       "1              Close Corporation    Mr  English  First National Bank   \n",
       "2              Close Corporation    Mr  English  First National Bank   \n",
       "3              Close Corporation    Mr  English  First National Bank   \n",
       "4              Close Corporation    Mr  English  First National Bank   \n",
       "\n",
       "       AccountType  ...                    ExcessSelected CoverCategory  \\\n",
       "0  Current account  ...             Mobility - Windscreen    Windscreen   \n",
       "1  Current account  ...             Mobility - Windscreen    Windscreen   \n",
       "2  Current account  ...             Mobility - Windscreen    Windscreen   \n",
       "3  Current account  ...  Mobility - Metered Taxis - R2000    Own damage   \n",
       "4  Current account  ...  Mobility - Metered Taxis - R2000    Own damage   \n",
       "\n",
       "    CoverType            CoverGroup              Section  \\\n",
       "0  Windscreen  Comprehensive - Taxi  Motor Comprehensive   \n",
       "1  Windscreen  Comprehensive - Taxi  Motor Comprehensive   \n",
       "2  Windscreen  Comprehensive - Taxi  Motor Comprehensive   \n",
       "3  Own Damage  Comprehensive - Taxi  Motor Comprehensive   \n",
       "4  Own Damage  Comprehensive - Taxi  Motor Comprehensive   \n",
       "\n",
       "                           Product StatutoryClass StatutoryRiskType  \\\n",
       "0  Mobility Metered Taxis: Monthly     Commercial     IFRS Constant   \n",
       "1  Mobility Metered Taxis: Monthly     Commercial     IFRS Constant   \n",
       "2  Mobility Metered Taxis: Monthly     Commercial     IFRS Constant   \n",
       "3  Mobility Metered Taxis: Monthly     Commercial     IFRS Constant   \n",
       "4  Mobility Metered Taxis: Monthly     Commercial     IFRS Constant   \n",
       "\n",
       "   TotalPremium TotalClaims  \n",
       "0     21.929825         0.0  \n",
       "1     21.929825         0.0  \n",
       "2      0.000000         0.0  \n",
       "3    512.848070         0.0  \n",
       "4      0.000000         0.0  \n",
       "\n",
       "[5 rows x 46 columns]"
      ]
     },
     "execution_count": 6,
     "metadata": {},
     "output_type": "execute_result"
    }
   ],
   "source": [
    "# Display the first few rows of the cleaned data\n",
    "cleaned_data.head()"
   ]
  },
  {
   "cell_type": "code",
   "execution_count": 7,
   "id": "fd13101a",
   "metadata": {},
   "outputs": [],
   "source": [
    "# Replace the original data with the cleaned data\n",
    "data = cleaned_data"
   ]
  },
  {
   "cell_type": "code",
   "execution_count": 8,
   "id": "ef98e2f4",
   "metadata": {},
   "outputs": [
    {
     "data": {
      "text/plain": [
       "(1000098, 46)"
      ]
     },
     "execution_count": 8,
     "metadata": {},
     "output_type": "execute_result"
    }
   ],
   "source": [
    "cleaned_data.shape"
   ]
  },
  {
   "cell_type": "code",
   "execution_count": 9,
   "id": "1a24f235",
   "metadata": {},
   "outputs": [
    {
     "data": {
      "application/vnd.microsoft.datawrangler.viewer.v0+json": {
       "columns": [
        {
         "name": "index",
         "rawType": "object",
         "type": "string"
        },
        {
         "name": "0",
         "rawType": "object",
         "type": "unknown"
        }
       ],
       "ref": "458b3c09-a2da-4688-989c-15f779b412dc",
       "rows": [
        [
         "UnderwrittenCoverID",
         "int64"
        ],
        [
         "PolicyID",
         "int64"
        ],
        [
         "TransactionMonth",
         "object"
        ],
        [
         "IsVATRegistered",
         "bool"
        ],
        [
         "Citizenship",
         "object"
        ],
        [
         "LegalType",
         "object"
        ],
        [
         "Title",
         "object"
        ],
        [
         "Language",
         "object"
        ],
        [
         "Bank",
         "object"
        ],
        [
         "AccountType",
         "object"
        ],
        [
         "MaritalStatus",
         "object"
        ],
        [
         "Gender",
         "object"
        ],
        [
         "Country",
         "object"
        ],
        [
         "Province",
         "object"
        ],
        [
         "PostalCode",
         "int64"
        ],
        [
         "MainCrestaZone",
         "object"
        ],
        [
         "SubCrestaZone",
         "object"
        ],
        [
         "ItemType",
         "object"
        ],
        [
         "mmcode",
         "float64"
        ],
        [
         "VehicleType",
         "object"
        ],
        [
         "RegistrationYear",
         "int64"
        ],
        [
         "make",
         "object"
        ],
        [
         "Model",
         "object"
        ],
        [
         "Cylinders",
         "float64"
        ],
        [
         "cubiccapacity",
         "float64"
        ],
        [
         "kilowatts",
         "float64"
        ],
        [
         "bodytype",
         "object"
        ],
        [
         "NumberOfDoors",
         "float64"
        ],
        [
         "VehicleIntroDate",
         "object"
        ],
        [
         "AlarmImmobiliser",
         "object"
        ],
        [
         "TrackingDevice",
         "object"
        ],
        [
         "CapitalOutstanding",
         "object"
        ],
        [
         "NewVehicle",
         "object"
        ],
        [
         "SumInsured",
         "float64"
        ],
        [
         "TermFrequency",
         "object"
        ],
        [
         "CalculatedPremiumPerTerm",
         "float64"
        ],
        [
         "ExcessSelected",
         "object"
        ],
        [
         "CoverCategory",
         "object"
        ],
        [
         "CoverType",
         "object"
        ],
        [
         "CoverGroup",
         "object"
        ],
        [
         "Section",
         "object"
        ],
        [
         "Product",
         "object"
        ],
        [
         "StatutoryClass",
         "object"
        ],
        [
         "StatutoryRiskType",
         "object"
        ],
        [
         "TotalPremium",
         "float64"
        ],
        [
         "TotalClaims",
         "float64"
        ]
       ],
       "shape": {
        "columns": 1,
        "rows": 46
       }
      },
      "text/plain": [
       "UnderwrittenCoverID           int64\n",
       "PolicyID                      int64\n",
       "TransactionMonth             object\n",
       "IsVATRegistered                bool\n",
       "Citizenship                  object\n",
       "LegalType                    object\n",
       "Title                        object\n",
       "Language                     object\n",
       "Bank                         object\n",
       "AccountType                  object\n",
       "MaritalStatus                object\n",
       "Gender                       object\n",
       "Country                      object\n",
       "Province                     object\n",
       "PostalCode                    int64\n",
       "MainCrestaZone               object\n",
       "SubCrestaZone                object\n",
       "ItemType                     object\n",
       "mmcode                      float64\n",
       "VehicleType                  object\n",
       "RegistrationYear              int64\n",
       "make                         object\n",
       "Model                        object\n",
       "Cylinders                   float64\n",
       "cubiccapacity               float64\n",
       "kilowatts                   float64\n",
       "bodytype                     object\n",
       "NumberOfDoors               float64\n",
       "VehicleIntroDate             object\n",
       "AlarmImmobiliser             object\n",
       "TrackingDevice               object\n",
       "CapitalOutstanding           object\n",
       "NewVehicle                   object\n",
       "SumInsured                  float64\n",
       "TermFrequency                object\n",
       "CalculatedPremiumPerTerm    float64\n",
       "ExcessSelected               object\n",
       "CoverCategory                object\n",
       "CoverType                    object\n",
       "CoverGroup                   object\n",
       "Section                      object\n",
       "Product                      object\n",
       "StatutoryClass               object\n",
       "StatutoryRiskType            object\n",
       "TotalPremium                float64\n",
       "TotalClaims                 float64\n",
       "dtype: object"
      ]
     },
     "execution_count": 9,
     "metadata": {},
     "output_type": "execute_result"
    }
   ],
   "source": [
    "cleaned_data.dtypes"
   ]
  },
  {
   "cell_type": "code",
   "execution_count": 10,
   "id": "08a23e26",
   "metadata": {},
   "outputs": [
    {
     "data": {
      "application/vnd.microsoft.datawrangler.viewer.v0+json": {
       "columns": [
        {
         "name": "index",
         "rawType": "object",
         "type": "string"
        },
        {
         "name": "0",
         "rawType": "int64",
         "type": "integer"
        }
       ],
       "ref": "97cfcdc2-9551-4996-a1c1-08b9188088e5",
       "rows": [
        [
         "UnderwrittenCoverID",
         "1000098"
        ],
        [
         "PolicyID",
         "1000098"
        ],
        [
         "TransactionMonth",
         "1000098"
        ],
        [
         "IsVATRegistered",
         "1000098"
        ],
        [
         "Citizenship",
         "1000098"
        ],
        [
         "LegalType",
         "1000098"
        ],
        [
         "Title",
         "1000098"
        ],
        [
         "Language",
         "1000098"
        ],
        [
         "Bank",
         "1000098"
        ],
        [
         "AccountType",
         "1000098"
        ],
        [
         "MaritalStatus",
         "1000098"
        ],
        [
         "Gender",
         "1000098"
        ],
        [
         "Country",
         "1000098"
        ],
        [
         "Province",
         "1000098"
        ],
        [
         "PostalCode",
         "1000098"
        ],
        [
         "MainCrestaZone",
         "1000098"
        ],
        [
         "SubCrestaZone",
         "1000098"
        ],
        [
         "ItemType",
         "1000098"
        ],
        [
         "mmcode",
         "1000098"
        ],
        [
         "VehicleType",
         "1000098"
        ],
        [
         "RegistrationYear",
         "1000098"
        ],
        [
         "make",
         "1000098"
        ],
        [
         "Model",
         "1000098"
        ],
        [
         "Cylinders",
         "1000098"
        ],
        [
         "cubiccapacity",
         "1000098"
        ],
        [
         "kilowatts",
         "1000098"
        ],
        [
         "bodytype",
         "1000098"
        ],
        [
         "NumberOfDoors",
         "1000098"
        ],
        [
         "VehicleIntroDate",
         "1000098"
        ],
        [
         "AlarmImmobiliser",
         "1000098"
        ],
        [
         "TrackingDevice",
         "1000098"
        ],
        [
         "CapitalOutstanding",
         "1000098"
        ],
        [
         "NewVehicle",
         "1000098"
        ],
        [
         "SumInsured",
         "1000098"
        ],
        [
         "TermFrequency",
         "1000098"
        ],
        [
         "CalculatedPremiumPerTerm",
         "1000098"
        ],
        [
         "ExcessSelected",
         "1000098"
        ],
        [
         "CoverCategory",
         "1000098"
        ],
        [
         "CoverType",
         "1000098"
        ],
        [
         "CoverGroup",
         "1000098"
        ],
        [
         "Section",
         "1000098"
        ],
        [
         "Product",
         "1000098"
        ],
        [
         "StatutoryClass",
         "1000098"
        ],
        [
         "StatutoryRiskType",
         "1000098"
        ],
        [
         "TotalPremium",
         "1000098"
        ],
        [
         "TotalClaims",
         "1000098"
        ]
       ],
       "shape": {
        "columns": 1,
        "rows": 46
       }
      },
      "text/plain": [
       "UnderwrittenCoverID         1000098\n",
       "PolicyID                    1000098\n",
       "TransactionMonth            1000098\n",
       "IsVATRegistered             1000098\n",
       "Citizenship                 1000098\n",
       "LegalType                   1000098\n",
       "Title                       1000098\n",
       "Language                    1000098\n",
       "Bank                        1000098\n",
       "AccountType                 1000098\n",
       "MaritalStatus               1000098\n",
       "Gender                      1000098\n",
       "Country                     1000098\n",
       "Province                    1000098\n",
       "PostalCode                  1000098\n",
       "MainCrestaZone              1000098\n",
       "SubCrestaZone               1000098\n",
       "ItemType                    1000098\n",
       "mmcode                      1000098\n",
       "VehicleType                 1000098\n",
       "RegistrationYear            1000098\n",
       "make                        1000098\n",
       "Model                       1000098\n",
       "Cylinders                   1000098\n",
       "cubiccapacity               1000098\n",
       "kilowatts                   1000098\n",
       "bodytype                    1000098\n",
       "NumberOfDoors               1000098\n",
       "VehicleIntroDate            1000098\n",
       "AlarmImmobiliser            1000098\n",
       "TrackingDevice              1000098\n",
       "CapitalOutstanding          1000098\n",
       "NewVehicle                  1000098\n",
       "SumInsured                  1000098\n",
       "TermFrequency               1000098\n",
       "CalculatedPremiumPerTerm    1000098\n",
       "ExcessSelected              1000098\n",
       "CoverCategory               1000098\n",
       "CoverType                   1000098\n",
       "CoverGroup                  1000098\n",
       "Section                     1000098\n",
       "Product                     1000098\n",
       "StatutoryClass              1000098\n",
       "StatutoryRiskType           1000098\n",
       "TotalPremium                1000098\n",
       "TotalClaims                 1000098\n",
       "dtype: int64"
      ]
     },
     "execution_count": 10,
     "metadata": {},
     "output_type": "execute_result"
    }
   ],
   "source": [
    "cleaned_data.count()"
   ]
  },
  {
   "cell_type": "code",
   "execution_count": 11,
   "id": "894e5506",
   "metadata": {},
   "outputs": [
    {
     "data": {
      "application/vnd.microsoft.datawrangler.viewer.v0+json": {
       "columns": [
        {
         "name": "index",
         "rawType": "object",
         "type": "string"
        },
        {
         "name": "0",
         "rawType": "int64",
         "type": "integer"
        }
       ],
       "ref": "43cdc4d8-1e3f-4622-a158-674f824219c2",
       "rows": [
        [
         "UnderwrittenCoverID",
         "0"
        ],
        [
         "PolicyID",
         "0"
        ],
        [
         "TransactionMonth",
         "0"
        ],
        [
         "IsVATRegistered",
         "0"
        ],
        [
         "Citizenship",
         "0"
        ],
        [
         "LegalType",
         "0"
        ],
        [
         "Title",
         "0"
        ],
        [
         "Language",
         "0"
        ],
        [
         "Bank",
         "0"
        ],
        [
         "AccountType",
         "0"
        ],
        [
         "MaritalStatus",
         "0"
        ],
        [
         "Gender",
         "0"
        ],
        [
         "Country",
         "0"
        ],
        [
         "Province",
         "0"
        ],
        [
         "PostalCode",
         "0"
        ],
        [
         "MainCrestaZone",
         "0"
        ],
        [
         "SubCrestaZone",
         "0"
        ],
        [
         "ItemType",
         "0"
        ],
        [
         "mmcode",
         "0"
        ],
        [
         "VehicleType",
         "0"
        ],
        [
         "RegistrationYear",
         "0"
        ],
        [
         "make",
         "0"
        ],
        [
         "Model",
         "0"
        ],
        [
         "Cylinders",
         "0"
        ],
        [
         "cubiccapacity",
         "0"
        ],
        [
         "kilowatts",
         "0"
        ],
        [
         "bodytype",
         "0"
        ],
        [
         "NumberOfDoors",
         "0"
        ],
        [
         "VehicleIntroDate",
         "0"
        ],
        [
         "AlarmImmobiliser",
         "0"
        ],
        [
         "TrackingDevice",
         "0"
        ],
        [
         "CapitalOutstanding",
         "0"
        ],
        [
         "NewVehicle",
         "0"
        ],
        [
         "SumInsured",
         "0"
        ],
        [
         "TermFrequency",
         "0"
        ],
        [
         "CalculatedPremiumPerTerm",
         "0"
        ],
        [
         "ExcessSelected",
         "0"
        ],
        [
         "CoverCategory",
         "0"
        ],
        [
         "CoverType",
         "0"
        ],
        [
         "CoverGroup",
         "0"
        ],
        [
         "Section",
         "0"
        ],
        [
         "Product",
         "0"
        ],
        [
         "StatutoryClass",
         "0"
        ],
        [
         "StatutoryRiskType",
         "0"
        ],
        [
         "TotalPremium",
         "0"
        ],
        [
         "TotalClaims",
         "0"
        ]
       ],
       "shape": {
        "columns": 1,
        "rows": 46
       }
      },
      "text/plain": [
       "UnderwrittenCoverID         0\n",
       "PolicyID                    0\n",
       "TransactionMonth            0\n",
       "IsVATRegistered             0\n",
       "Citizenship                 0\n",
       "LegalType                   0\n",
       "Title                       0\n",
       "Language                    0\n",
       "Bank                        0\n",
       "AccountType                 0\n",
       "MaritalStatus               0\n",
       "Gender                      0\n",
       "Country                     0\n",
       "Province                    0\n",
       "PostalCode                  0\n",
       "MainCrestaZone              0\n",
       "SubCrestaZone               0\n",
       "ItemType                    0\n",
       "mmcode                      0\n",
       "VehicleType                 0\n",
       "RegistrationYear            0\n",
       "make                        0\n",
       "Model                       0\n",
       "Cylinders                   0\n",
       "cubiccapacity               0\n",
       "kilowatts                   0\n",
       "bodytype                    0\n",
       "NumberOfDoors               0\n",
       "VehicleIntroDate            0\n",
       "AlarmImmobiliser            0\n",
       "TrackingDevice              0\n",
       "CapitalOutstanding          0\n",
       "NewVehicle                  0\n",
       "SumInsured                  0\n",
       "TermFrequency               0\n",
       "CalculatedPremiumPerTerm    0\n",
       "ExcessSelected              0\n",
       "CoverCategory               0\n",
       "CoverType                   0\n",
       "CoverGroup                  0\n",
       "Section                     0\n",
       "Product                     0\n",
       "StatutoryClass              0\n",
       "StatutoryRiskType           0\n",
       "TotalPremium                0\n",
       "TotalClaims                 0\n",
       "dtype: int64"
      ]
     },
     "execution_count": 11,
     "metadata": {},
     "output_type": "execute_result"
    }
   ],
   "source": [
    "cleaned_data.isnull().sum()"
   ]
  },
  {
   "cell_type": "code",
   "execution_count": 12,
   "id": "fa666bb2",
   "metadata": {},
   "outputs": [
    {
     "name": "stdout",
     "output_type": "stream",
     "text": [
      "The head of the DataFrame is:\n",
      "    UnderwrittenCoverID  PolicyID     TransactionMonth  IsVATRegistered  \\\n",
      "0               145249     12827  2015-03-01 00:00:00             True   \n",
      "1               145249     12827  2015-05-01 00:00:00             True   \n",
      "2               145249     12827  2015-07-01 00:00:00             True   \n",
      "3               145255     12827  2015-05-01 00:00:00             True   \n",
      "4               145255     12827  2015-07-01 00:00:00             True   \n",
      "\n",
      "  Citizenship          LegalType Title Language                 Bank  \\\n",
      "0              Close Corporation    Mr  English  First National Bank   \n",
      "1              Close Corporation    Mr  English  First National Bank   \n",
      "2              Close Corporation    Mr  English  First National Bank   \n",
      "3              Close Corporation    Mr  English  First National Bank   \n",
      "4              Close Corporation    Mr  English  First National Bank   \n",
      "\n",
      "       AccountType  ...                    ExcessSelected CoverCategory  \\\n",
      "0  Current account  ...             Mobility - Windscreen    Windscreen   \n",
      "1  Current account  ...             Mobility - Windscreen    Windscreen   \n",
      "2  Current account  ...             Mobility - Windscreen    Windscreen   \n",
      "3  Current account  ...  Mobility - Metered Taxis - R2000    Own damage   \n",
      "4  Current account  ...  Mobility - Metered Taxis - R2000    Own damage   \n",
      "\n",
      "    CoverType            CoverGroup              Section  \\\n",
      "0  Windscreen  Comprehensive - Taxi  Motor Comprehensive   \n",
      "1  Windscreen  Comprehensive - Taxi  Motor Comprehensive   \n",
      "2  Windscreen  Comprehensive - Taxi  Motor Comprehensive   \n",
      "3  Own Damage  Comprehensive - Taxi  Motor Comprehensive   \n",
      "4  Own Damage  Comprehensive - Taxi  Motor Comprehensive   \n",
      "\n",
      "                           Product StatutoryClass StatutoryRiskType  \\\n",
      "0  Mobility Metered Taxis: Monthly     Commercial     IFRS Constant   \n",
      "1  Mobility Metered Taxis: Monthly     Commercial     IFRS Constant   \n",
      "2  Mobility Metered Taxis: Monthly     Commercial     IFRS Constant   \n",
      "3  Mobility Metered Taxis: Monthly     Commercial     IFRS Constant   \n",
      "4  Mobility Metered Taxis: Monthly     Commercial     IFRS Constant   \n",
      "\n",
      "   TotalPremium TotalClaims  \n",
      "0     21.929825         0.0  \n",
      "1     21.929825         0.0  \n",
      "2      0.000000         0.0  \n",
      "3    512.848070         0.0  \n",
      "4      0.000000         0.0  \n",
      "\n",
      "[5 rows x 46 columns]\n"
     ]
    }
   ],
   "source": [
    "df = pd.DataFrame(data)\n",
    "\n",
    "# Use the head() method to display the first few rows of the DataFrame\n",
    "head_df = df.head()\n",
    "\n",
    "# Print the head of the DataFrame\n",
    "print(\"The head of the DataFrame is:\\n\", head_df)"
   ]
  },
  {
   "cell_type": "code",
   "execution_count": 13,
   "id": "cc59ad0e",
   "metadata": {},
   "outputs": [
    {
     "name": "stdout",
     "output_type": "stream",
     "text": [
      "Missing values in the DataFrame:\n",
      "          UnderwrittenCoverID  PolicyID  TransactionMonth  IsVATRegistered  \\\n",
      "0                      False     False             False            False   \n",
      "1                      False     False             False            False   \n",
      "2                      False     False             False            False   \n",
      "3                      False     False             False            False   \n",
      "4                      False     False             False            False   \n",
      "...                      ...       ...               ...              ...   \n",
      "1000093                False     False             False            False   \n",
      "1000094                False     False             False            False   \n",
      "1000095                False     False             False            False   \n",
      "1000096                False     False             False            False   \n",
      "1000097                False     False             False            False   \n",
      "\n",
      "         Citizenship  LegalType  Title  Language   Bank  AccountType  ...  \\\n",
      "0              False      False  False     False  False        False  ...   \n",
      "1              False      False  False     False  False        False  ...   \n",
      "2              False      False  False     False  False        False  ...   \n",
      "3              False      False  False     False  False        False  ...   \n",
      "4              False      False  False     False  False        False  ...   \n",
      "...              ...        ...    ...       ...    ...          ...  ...   \n",
      "1000093        False      False  False     False  False        False  ...   \n",
      "1000094        False      False  False     False  False        False  ...   \n",
      "1000095        False      False  False     False  False        False  ...   \n",
      "1000096        False      False  False     False  False        False  ...   \n",
      "1000097        False      False  False     False  False        False  ...   \n",
      "\n",
      "         ExcessSelected  CoverCategory  CoverType  CoverGroup  Section  \\\n",
      "0                 False          False      False       False    False   \n",
      "1                 False          False      False       False    False   \n",
      "2                 False          False      False       False    False   \n",
      "3                 False          False      False       False    False   \n",
      "4                 False          False      False       False    False   \n",
      "...                 ...            ...        ...         ...      ...   \n",
      "1000093           False          False      False       False    False   \n",
      "1000094           False          False      False       False    False   \n",
      "1000095           False          False      False       False    False   \n",
      "1000096           False          False      False       False    False   \n",
      "1000097           False          False      False       False    False   \n",
      "\n",
      "         Product  StatutoryClass  StatutoryRiskType  TotalPremium  TotalClaims  \n",
      "0          False           False              False         False        False  \n",
      "1          False           False              False         False        False  \n",
      "2          False           False              False         False        False  \n",
      "3          False           False              False         False        False  \n",
      "4          False           False              False         False        False  \n",
      "...          ...             ...                ...           ...          ...  \n",
      "1000093    False           False              False         False        False  \n",
      "1000094    False           False              False         False        False  \n",
      "1000095    False           False              False         False        False  \n",
      "1000096    False           False              False         False        False  \n",
      "1000097    False           False              False         False        False  \n",
      "\n",
      "[1000098 rows x 46 columns]\n",
      "Count of missing values in each column:\n",
      " UnderwrittenCoverID         0\n",
      "PolicyID                    0\n",
      "TransactionMonth            0\n",
      "IsVATRegistered             0\n",
      "Citizenship                 0\n",
      "LegalType                   0\n",
      "Title                       0\n",
      "Language                    0\n",
      "Bank                        0\n",
      "AccountType                 0\n",
      "MaritalStatus               0\n",
      "Gender                      0\n",
      "Country                     0\n",
      "Province                    0\n",
      "PostalCode                  0\n",
      "MainCrestaZone              0\n",
      "SubCrestaZone               0\n",
      "ItemType                    0\n",
      "mmcode                      0\n",
      "VehicleType                 0\n",
      "RegistrationYear            0\n",
      "make                        0\n",
      "Model                       0\n",
      "Cylinders                   0\n",
      "cubiccapacity               0\n",
      "kilowatts                   0\n",
      "bodytype                    0\n",
      "NumberOfDoors               0\n",
      "VehicleIntroDate            0\n",
      "AlarmImmobiliser            0\n",
      "TrackingDevice              0\n",
      "CapitalOutstanding          0\n",
      "NewVehicle                  0\n",
      "SumInsured                  0\n",
      "TermFrequency               0\n",
      "CalculatedPremiumPerTerm    0\n",
      "ExcessSelected              0\n",
      "CoverCategory               0\n",
      "CoverType                   0\n",
      "CoverGroup                  0\n",
      "Section                     0\n",
      "Product                     0\n",
      "StatutoryClass              0\n",
      "StatutoryRiskType           0\n",
      "TotalPremium                0\n",
      "TotalClaims                 0\n",
      "dtype: int64\n"
     ]
    }
   ],
   "source": [
    "# Detect missing values\n",
    "missing_values = df.isnull()\n",
    "print(\"Missing values in the DataFrame:\\n\", missing_values)\n",
    "\n",
    "# Count missing values in each column\n",
    "missing_count = df.isnull().sum()\n",
    "print(\"Count of missing values in each column:\\n\", missing_count)"
   ]
  },
  {
   "cell_type": "code",
   "execution_count": 14,
   "id": "20f577f7",
   "metadata": {},
   "outputs": [
    {
     "name": "stdout",
     "output_type": "stream",
     "text": [
      "<class 'pandas.core.frame.DataFrame'>\n",
      "RangeIndex: 1000098 entries, 0 to 1000097\n",
      "Data columns (total 46 columns):\n",
      " #   Column                    Non-Null Count    Dtype  \n",
      "---  ------                    --------------    -----  \n",
      " 0   UnderwrittenCoverID       1000098 non-null  int64  \n",
      " 1   PolicyID                  1000098 non-null  int64  \n",
      " 2   TransactionMonth          1000098 non-null  object \n",
      " 3   IsVATRegistered           1000098 non-null  bool   \n",
      " 4   Citizenship               1000098 non-null  object \n",
      " 5   LegalType                 1000098 non-null  object \n",
      " 6   Title                     1000098 non-null  object \n",
      " 7   Language                  1000098 non-null  object \n",
      " 8   Bank                      1000098 non-null  object \n",
      " 9   AccountType               1000098 non-null  object \n",
      " 10  MaritalStatus             1000098 non-null  object \n",
      " 11  Gender                    1000098 non-null  object \n",
      " 12  Country                   1000098 non-null  object \n",
      " 13  Province                  1000098 non-null  object \n",
      " 14  PostalCode                1000098 non-null  int64  \n",
      " 15  MainCrestaZone            1000098 non-null  object \n",
      " 16  SubCrestaZone             1000098 non-null  object \n",
      " 17  ItemType                  1000098 non-null  object \n",
      " 18  mmcode                    1000098 non-null  float64\n",
      " 19  VehicleType               1000098 non-null  object \n",
      " 20  RegistrationYear          1000098 non-null  int64  \n",
      " 21  make                      1000098 non-null  object \n",
      " 22  Model                     1000098 non-null  object \n",
      " 23  Cylinders                 1000098 non-null  float64\n",
      " 24  cubiccapacity             1000098 non-null  float64\n",
      " 25  kilowatts                 1000098 non-null  float64\n",
      " 26  bodytype                  1000098 non-null  object \n",
      " 27  NumberOfDoors             1000098 non-null  float64\n",
      " 28  VehicleIntroDate          1000098 non-null  object \n",
      " 29  AlarmImmobiliser          1000098 non-null  object \n",
      " 30  TrackingDevice            1000098 non-null  object \n",
      " 31  CapitalOutstanding        1000098 non-null  object \n",
      " 32  NewVehicle                1000098 non-null  object \n",
      " 33  SumInsured                1000098 non-null  float64\n",
      " 34  TermFrequency             1000098 non-null  object \n",
      " 35  CalculatedPremiumPerTerm  1000098 non-null  float64\n",
      " 36  ExcessSelected            1000098 non-null  object \n",
      " 37  CoverCategory             1000098 non-null  object \n",
      " 38  CoverType                 1000098 non-null  object \n",
      " 39  CoverGroup                1000098 non-null  object \n",
      " 40  Section                   1000098 non-null  object \n",
      " 41  Product                   1000098 non-null  object \n",
      " 42  StatutoryClass            1000098 non-null  object \n",
      " 43  StatutoryRiskType         1000098 non-null  object \n",
      " 44  TotalPremium              1000098 non-null  float64\n",
      " 45  TotalClaims               1000098 non-null  float64\n",
      "dtypes: bool(1), float64(9), int64(4), object(32)\n",
      "memory usage: 344.3+ MB\n"
     ]
    }
   ],
   "source": [
    "data.info()"
   ]
  },
  {
   "cell_type": "code",
   "execution_count": 15,
   "id": "58d7acb0",
   "metadata": {},
   "outputs": [
    {
     "data": {
      "application/vnd.microsoft.datawrangler.viewer.v0+json": {
       "columns": [
        {
         "name": "index",
         "rawType": "object",
         "type": "string"
        },
        {
         "name": "UnderwrittenCoverID",
         "rawType": "float64",
         "type": "float"
        },
        {
         "name": "PolicyID",
         "rawType": "float64",
         "type": "float"
        },
        {
         "name": "PostalCode",
         "rawType": "float64",
         "type": "float"
        },
        {
         "name": "mmcode",
         "rawType": "float64",
         "type": "float"
        },
        {
         "name": "RegistrationYear",
         "rawType": "float64",
         "type": "float"
        },
        {
         "name": "Cylinders",
         "rawType": "float64",
         "type": "float"
        },
        {
         "name": "cubiccapacity",
         "rawType": "float64",
         "type": "float"
        },
        {
         "name": "kilowatts",
         "rawType": "float64",
         "type": "float"
        },
        {
         "name": "NumberOfDoors",
         "rawType": "float64",
         "type": "float"
        },
        {
         "name": "SumInsured",
         "rawType": "float64",
         "type": "float"
        },
        {
         "name": "CalculatedPremiumPerTerm",
         "rawType": "float64",
         "type": "float"
        },
        {
         "name": "TotalPremium",
         "rawType": "float64",
         "type": "float"
        },
        {
         "name": "TotalClaims",
         "rawType": "float64",
         "type": "float"
        }
       ],
       "ref": "6f442f48-927a-4d1e-b7e4-66dd40ce0c3b",
       "rows": [
        [
         "count",
         "1000098.0",
         "1000098.0",
         "1000098.0",
         "1000098.0",
         "1000098.0",
         "1000098.0",
         "1000098.0",
         "1000098.0",
         "1000098.0",
         "1000098.0",
         "1000098.0",
         "1000098.0",
         "1000098.0"
        ],
        [
         "mean",
         "104817.5460754846",
         "7956.682450119888",
         "3020.600887113063",
         "54880563.492706716",
         "2010.2253709136505",
         "4.046616431589705",
         "2466.868691868197",
         "97.21553187787597",
         "4.019239114566773",
         "604172.732588964",
         "117.87569130125247",
         "61.90549595782838",
         "64.86118977410389"
        ],
        [
         "std",
         "63293.708455123524",
         "5290.038509657952",
         "2649.8544133448795",
         "13600594.862287078",
         "3.261391454005576",
         "0.2939410049914066",
         "442.7106001170128",
         "19.390608883502846",
         "0.46818538853053865",
         "1508331.837996336",
         "399.7017210631286",
         "230.28451275764215",
         "2384.0746945015203"
        ],
        [
         "min",
         "1.0",
         "14.0",
         "1.0",
         "4041200.0",
         "1987.0",
         "0.0",
         "0.0",
         "0.0",
         "0.0",
         "0.01",
         "0.0",
         "-782.576754385965",
         "-12002.412280701796"
        ],
        [
         "25%",
         "55143.0",
         "4500.0",
         "827.0",
         "60056925.0",
         "2008.0",
         "4.0",
         "2237.0",
         "75.0",
         "4.0",
         "5000.0",
         "3.2248",
         "0.0",
         "0.0"
        ],
        [
         "50%",
         "94083.0",
         "7071.0",
         "2000.0",
         "60058415.0",
         "2011.0",
         "4.0",
         "2694.0",
         "111.0",
         "4.0",
         "7500.0",
         "8.4369",
         "2.178333333333",
         "0.0"
        ],
        [
         "75%",
         "139190.0",
         "11077.0",
         "4180.0",
         "60058418.0",
         "2013.0",
         "4.0",
         "2694.0",
         "111.0",
         "4.0",
         "250000.0",
         "90.0",
         "21.929824561403",
         "0.0"
        ],
        [
         "max",
         "301175.0",
         "23246.0",
         "9870.0",
         "65065350.0",
         "2015.0",
         "10.0",
         "12880.0",
         "309.0",
         "6.0",
         "12636200.0",
         "74422.1679",
         "65282.6034210526",
         "393092.105263158"
        ]
       ],
       "shape": {
        "columns": 13,
        "rows": 8
       }
      },
      "text/html": [
       "<div>\n",
       "<style scoped>\n",
       "    .dataframe tbody tr th:only-of-type {\n",
       "        vertical-align: middle;\n",
       "    }\n",
       "\n",
       "    .dataframe tbody tr th {\n",
       "        vertical-align: top;\n",
       "    }\n",
       "\n",
       "    .dataframe thead th {\n",
       "        text-align: right;\n",
       "    }\n",
       "</style>\n",
       "<table border=\"1\" class=\"dataframe\">\n",
       "  <thead>\n",
       "    <tr style=\"text-align: right;\">\n",
       "      <th></th>\n",
       "      <th>UnderwrittenCoverID</th>\n",
       "      <th>PolicyID</th>\n",
       "      <th>PostalCode</th>\n",
       "      <th>mmcode</th>\n",
       "      <th>RegistrationYear</th>\n",
       "      <th>Cylinders</th>\n",
       "      <th>cubiccapacity</th>\n",
       "      <th>kilowatts</th>\n",
       "      <th>NumberOfDoors</th>\n",
       "      <th>SumInsured</th>\n",
       "      <th>CalculatedPremiumPerTerm</th>\n",
       "      <th>TotalPremium</th>\n",
       "      <th>TotalClaims</th>\n",
       "    </tr>\n",
       "  </thead>\n",
       "  <tbody>\n",
       "    <tr>\n",
       "      <th>count</th>\n",
       "      <td>1.000098e+06</td>\n",
       "      <td>1.000098e+06</td>\n",
       "      <td>1.000098e+06</td>\n",
       "      <td>1.000098e+06</td>\n",
       "      <td>1.000098e+06</td>\n",
       "      <td>1.000098e+06</td>\n",
       "      <td>1.000098e+06</td>\n",
       "      <td>1.000098e+06</td>\n",
       "      <td>1.000098e+06</td>\n",
       "      <td>1.000098e+06</td>\n",
       "      <td>1.000098e+06</td>\n",
       "      <td>1.000098e+06</td>\n",
       "      <td>1.000098e+06</td>\n",
       "    </tr>\n",
       "    <tr>\n",
       "      <th>mean</th>\n",
       "      <td>1.048175e+05</td>\n",
       "      <td>7.956682e+03</td>\n",
       "      <td>3.020601e+03</td>\n",
       "      <td>5.488056e+07</td>\n",
       "      <td>2.010225e+03</td>\n",
       "      <td>4.046616e+00</td>\n",
       "      <td>2.466869e+03</td>\n",
       "      <td>9.721553e+01</td>\n",
       "      <td>4.019239e+00</td>\n",
       "      <td>6.041727e+05</td>\n",
       "      <td>1.178757e+02</td>\n",
       "      <td>6.190550e+01</td>\n",
       "      <td>6.486119e+01</td>\n",
       "    </tr>\n",
       "    <tr>\n",
       "      <th>std</th>\n",
       "      <td>6.329371e+04</td>\n",
       "      <td>5.290039e+03</td>\n",
       "      <td>2.649854e+03</td>\n",
       "      <td>1.360059e+07</td>\n",
       "      <td>3.261391e+00</td>\n",
       "      <td>2.939410e-01</td>\n",
       "      <td>4.427106e+02</td>\n",
       "      <td>1.939061e+01</td>\n",
       "      <td>4.681854e-01</td>\n",
       "      <td>1.508332e+06</td>\n",
       "      <td>3.997017e+02</td>\n",
       "      <td>2.302845e+02</td>\n",
       "      <td>2.384075e+03</td>\n",
       "    </tr>\n",
       "    <tr>\n",
       "      <th>min</th>\n",
       "      <td>1.000000e+00</td>\n",
       "      <td>1.400000e+01</td>\n",
       "      <td>1.000000e+00</td>\n",
       "      <td>4.041200e+06</td>\n",
       "      <td>1.987000e+03</td>\n",
       "      <td>0.000000e+00</td>\n",
       "      <td>0.000000e+00</td>\n",
       "      <td>0.000000e+00</td>\n",
       "      <td>0.000000e+00</td>\n",
       "      <td>1.000000e-02</td>\n",
       "      <td>0.000000e+00</td>\n",
       "      <td>-7.825768e+02</td>\n",
       "      <td>-1.200241e+04</td>\n",
       "    </tr>\n",
       "    <tr>\n",
       "      <th>25%</th>\n",
       "      <td>5.514300e+04</td>\n",
       "      <td>4.500000e+03</td>\n",
       "      <td>8.270000e+02</td>\n",
       "      <td>6.005692e+07</td>\n",
       "      <td>2.008000e+03</td>\n",
       "      <td>4.000000e+00</td>\n",
       "      <td>2.237000e+03</td>\n",
       "      <td>7.500000e+01</td>\n",
       "      <td>4.000000e+00</td>\n",
       "      <td>5.000000e+03</td>\n",
       "      <td>3.224800e+00</td>\n",
       "      <td>0.000000e+00</td>\n",
       "      <td>0.000000e+00</td>\n",
       "    </tr>\n",
       "    <tr>\n",
       "      <th>50%</th>\n",
       "      <td>9.408300e+04</td>\n",
       "      <td>7.071000e+03</td>\n",
       "      <td>2.000000e+03</td>\n",
       "      <td>6.005842e+07</td>\n",
       "      <td>2.011000e+03</td>\n",
       "      <td>4.000000e+00</td>\n",
       "      <td>2.694000e+03</td>\n",
       "      <td>1.110000e+02</td>\n",
       "      <td>4.000000e+00</td>\n",
       "      <td>7.500000e+03</td>\n",
       "      <td>8.436900e+00</td>\n",
       "      <td>2.178333e+00</td>\n",
       "      <td>0.000000e+00</td>\n",
       "    </tr>\n",
       "    <tr>\n",
       "      <th>75%</th>\n",
       "      <td>1.391900e+05</td>\n",
       "      <td>1.107700e+04</td>\n",
       "      <td>4.180000e+03</td>\n",
       "      <td>6.005842e+07</td>\n",
       "      <td>2.013000e+03</td>\n",
       "      <td>4.000000e+00</td>\n",
       "      <td>2.694000e+03</td>\n",
       "      <td>1.110000e+02</td>\n",
       "      <td>4.000000e+00</td>\n",
       "      <td>2.500000e+05</td>\n",
       "      <td>9.000000e+01</td>\n",
       "      <td>2.192982e+01</td>\n",
       "      <td>0.000000e+00</td>\n",
       "    </tr>\n",
       "    <tr>\n",
       "      <th>max</th>\n",
       "      <td>3.011750e+05</td>\n",
       "      <td>2.324600e+04</td>\n",
       "      <td>9.870000e+03</td>\n",
       "      <td>6.506535e+07</td>\n",
       "      <td>2.015000e+03</td>\n",
       "      <td>1.000000e+01</td>\n",
       "      <td>1.288000e+04</td>\n",
       "      <td>3.090000e+02</td>\n",
       "      <td>6.000000e+00</td>\n",
       "      <td>1.263620e+07</td>\n",
       "      <td>7.442217e+04</td>\n",
       "      <td>6.528260e+04</td>\n",
       "      <td>3.930921e+05</td>\n",
       "    </tr>\n",
       "  </tbody>\n",
       "</table>\n",
       "</div>"
      ],
      "text/plain": [
       "       UnderwrittenCoverID      PolicyID    PostalCode        mmcode  \\\n",
       "count         1.000098e+06  1.000098e+06  1.000098e+06  1.000098e+06   \n",
       "mean          1.048175e+05  7.956682e+03  3.020601e+03  5.488056e+07   \n",
       "std           6.329371e+04  5.290039e+03  2.649854e+03  1.360059e+07   \n",
       "min           1.000000e+00  1.400000e+01  1.000000e+00  4.041200e+06   \n",
       "25%           5.514300e+04  4.500000e+03  8.270000e+02  6.005692e+07   \n",
       "50%           9.408300e+04  7.071000e+03  2.000000e+03  6.005842e+07   \n",
       "75%           1.391900e+05  1.107700e+04  4.180000e+03  6.005842e+07   \n",
       "max           3.011750e+05  2.324600e+04  9.870000e+03  6.506535e+07   \n",
       "\n",
       "       RegistrationYear     Cylinders  cubiccapacity     kilowatts  \\\n",
       "count      1.000098e+06  1.000098e+06   1.000098e+06  1.000098e+06   \n",
       "mean       2.010225e+03  4.046616e+00   2.466869e+03  9.721553e+01   \n",
       "std        3.261391e+00  2.939410e-01   4.427106e+02  1.939061e+01   \n",
       "min        1.987000e+03  0.000000e+00   0.000000e+00  0.000000e+00   \n",
       "25%        2.008000e+03  4.000000e+00   2.237000e+03  7.500000e+01   \n",
       "50%        2.011000e+03  4.000000e+00   2.694000e+03  1.110000e+02   \n",
       "75%        2.013000e+03  4.000000e+00   2.694000e+03  1.110000e+02   \n",
       "max        2.015000e+03  1.000000e+01   1.288000e+04  3.090000e+02   \n",
       "\n",
       "       NumberOfDoors    SumInsured  CalculatedPremiumPerTerm  TotalPremium  \\\n",
       "count   1.000098e+06  1.000098e+06              1.000098e+06  1.000098e+06   \n",
       "mean    4.019239e+00  6.041727e+05              1.178757e+02  6.190550e+01   \n",
       "std     4.681854e-01  1.508332e+06              3.997017e+02  2.302845e+02   \n",
       "min     0.000000e+00  1.000000e-02              0.000000e+00 -7.825768e+02   \n",
       "25%     4.000000e+00  5.000000e+03              3.224800e+00  0.000000e+00   \n",
       "50%     4.000000e+00  7.500000e+03              8.436900e+00  2.178333e+00   \n",
       "75%     4.000000e+00  2.500000e+05              9.000000e+01  2.192982e+01   \n",
       "max     6.000000e+00  1.263620e+07              7.442217e+04  6.528260e+04   \n",
       "\n",
       "        TotalClaims  \n",
       "count  1.000098e+06  \n",
       "mean   6.486119e+01  \n",
       "std    2.384075e+03  \n",
       "min   -1.200241e+04  \n",
       "25%    0.000000e+00  \n",
       "50%    0.000000e+00  \n",
       "75%    0.000000e+00  \n",
       "max    3.930921e+05  "
      ]
     },
     "execution_count": 15,
     "metadata": {},
     "output_type": "execute_result"
    }
   ],
   "source": [
    "# Basic statistical details\n",
    "data.describe()"
   ]
  },
  {
   "cell_type": "code",
   "execution_count": 16,
   "id": "030e56c1",
   "metadata": {},
   "outputs": [
    {
     "name": "stdout",
     "output_type": "stream",
     "text": [
      "Duplicate Rows Count :  74\n"
     ]
    }
   ],
   "source": [
    "# Removing duplicate rows.\n",
    "print('Duplicate Rows Count : ', data.duplicated().sum())\n",
    "data=data.drop_duplicates(keep=\"first\")"
   ]
  },
  {
   "cell_type": "code",
   "execution_count": 17,
   "id": "48570b2f",
   "metadata": {},
   "outputs": [
    {
     "data": {
      "text/plain": [
       "(1000024, 46)"
      ]
     },
     "execution_count": 17,
     "metadata": {},
     "output_type": "execute_result"
    }
   ],
   "source": [
    "data.shape"
   ]
  },
  {
   "cell_type": "markdown",
   "id": "a711500c",
   "metadata": {},
   "source": [
    "# Preparing the Data "
   ]
  },
  {
   "cell_type": "code",
   "execution_count": 18,
   "id": "27b0f321",
   "metadata": {},
   "outputs": [],
   "source": [
    "\n",
    "# Feature Engineering: Create new features that might be relevant to TotalPremium and TotalClaims\n",
    "cleaned_data['RiskLevel'] = cleaned_data['TotalClaims'] / cleaned_data['SumInsured']\n",
    "cleaned_data['ProfitMargin'] = cleaned_data['TotalPremium'] - cleaned_data['TotalClaims']\n"
   ]
  },
  {
   "cell_type": "markdown",
   "id": "e8f6a26e",
   "metadata": {},
   "source": [
    "# encoding Categorical data "
   ]
  },
  {
   "cell_type": "code",
   "execution_count": 19,
   "id": "2b9795ef",
   "metadata": {},
   "outputs": [],
   "source": [
    "# Convert categorical data into a numeric format using one-hot encoding or label encoding\n",
    "label_enc_cols = ['TransactionMonth', 'Citizenship', 'LegalType', 'Title', 'Language', 'Bank', 'AccountType',\n",
    "                  'MaritalStatus', 'Gender', 'Country', 'Province', 'MainCrestaZone', 'SubCrestaZone', 'ItemType',\n",
    "                  'VehicleType', 'make', 'Model', 'bodytype', 'VehicleIntroDate', 'AlarmImmobiliser',\n",
    "                  'TrackingDevice', 'CapitalOutstanding', 'NewVehicle', 'TermFrequency', 'ExcessSelected',\n",
    "                  'CoverCategory', 'CoverType', 'CoverGroup', 'Section', 'Product', 'StatutoryClass', 'StatutoryRiskType']\n",
    "\n",
    "for col in label_enc_cols:\n",
    "    le = LabelEncoder()\n",
    "    cleaned_data[col] = le.fit_transform(cleaned_data[col])"
   ]
  },
  {
   "cell_type": "code",
   "execution_count": 20,
   "id": "a7942dbf",
   "metadata": {},
   "outputs": [],
   "source": [
    "# Selecting features and target variable\n",
    "features = cleaned_data.drop(columns=['TotalPremium', 'TotalClaims'])\n",
    "target_premium = cleaned_data['TotalPremium']\n",
    "target_claims = cleaned_data['TotalClaims']"
   ]
  },
  {
   "cell_type": "code",
   "execution_count": 21,
   "id": "48761c34",
   "metadata": {},
   "outputs": [],
   "source": [
    "# Train-Test Split: Divide the data into a training set and a test set\n",
    "X_train, X_test, y_train_premium, y_test_premium = train_test_split(features, target_premium, test_size=0.3, random_state=42)\n",
    "X_train, X_test, y_train_claims, y_test_claims = train_test_split(features, target_claims, test_size=0.3, random_state=42)"
   ]
  },
  {
   "cell_type": "markdown",
   "id": "9f20f4a6",
   "metadata": {},
   "source": [
    "# Building a Model "
   ]
  },
  {
   "cell_type": "markdown",
   "id": "ec52b0b0",
   "metadata": {},
   "source": [
    "### Liner regression"
   ]
  },
  {
   "cell_type": "code",
   "execution_count": 22,
   "id": "654501b4",
   "metadata": {},
   "outputs": [],
   "source": [
    "# Linear Regression\n",
    "lin_reg_premium = LinearRegression()\n",
    "lin_reg_premium.fit(X_train, y_train_premium)\n",
    "y_pred_premium_lr = lin_reg_premium.predict(X_test)\n",
    "\n",
    "lin_reg_claims = LinearRegression()\n",
    "lin_reg_claims.fit(X_train, y_train_claims)\n",
    "y_pred_claims_lr = lin_reg_claims.predict(X_test)"
   ]
  },
  {
   "cell_type": "markdown",
   "id": "f6bb4d3a",
   "metadata": {},
   "source": [
    "# Results "
   ]
  },
  {
   "cell_type": "code",
   "execution_count": 23,
   "id": "3580c6ea",
   "metadata": {},
   "outputs": [
    {
     "name": "stdout",
     "output_type": "stream",
     "text": [
      "Predicted Premiums (Linear Regression):\n",
      "[33.84063125  5.16646944 43.62041067 ... 16.92477338  6.1582544\n",
      " 18.36789633]\n",
      "\n",
      "Predicted Claims (Linear Regression):\n",
      "[ 26.75861371  -0.63449547  38.72505979 ...  16.92477337   6.1582544\n",
      " -78.12333174]\n"
     ]
    }
   ],
   "source": [
    "# Print predicted premiums\n",
    "print(\"Predicted Premiums (Linear Regression):\")\n",
    "print(y_pred_premium_lr)\n",
    "\n",
    "# Print predicted claims\n",
    "print(\"\\nPredicted Claims (Linear Regression):\")\n",
    "print(y_pred_claims_lr)\n"
   ]
  },
  {
   "cell_type": "markdown",
   "id": "45ddc012",
   "metadata": {},
   "source": [
    "### Decision tree"
   ]
  },
  {
   "cell_type": "code",
   "execution_count": 24,
   "id": "1cb87460",
   "metadata": {},
   "outputs": [],
   "source": [
    "# Decision Tree\n",
    "dt_reg_premium = DecisionTreeRegressor(random_state=42)\n",
    "dt_reg_premium.fit(X_train, y_train_premium)\n",
    "y_pred_premium_dt = dt_reg_premium.predict(X_test)\n",
    "\n",
    "dt_reg_claims = DecisionTreeRegressor(random_state=42)\n",
    "dt_reg_claims.fit(X_train, y_train_claims)\n",
    "y_pred_claims_dt = dt_reg_claims.predict(X_test)"
   ]
  },
  {
   "cell_type": "markdown",
   "id": "3b554cf3",
   "metadata": {},
   "source": [
    "# Results "
   ]
  },
  {
   "cell_type": "code",
   "execution_count": 25,
   "id": "30f50339",
   "metadata": {},
   "outputs": [
    {
     "name": "stdout",
     "output_type": "stream",
     "text": [
      "Predicted Premiums (Decision Tree):\n",
      "[ 7.08201754  5.80096491  4.89535088 ...  0.          0.\n",
      " 96.49122807]\n",
      "\n",
      "Predicted Claims (Decision Tree):\n",
      "[0. 0. 0. ... 0. 0. 0.]\n"
     ]
    }
   ],
   "source": [
    "# Print predicted premiums (Decision Tree)\n",
    "print(\"Predicted Premiums (Decision Tree):\")\n",
    "print(y_pred_premium_dt)\n",
    "\n",
    "# Print predicted claims (Decision Tree)\n",
    "print(\"\\nPredicted Claims (Decision Tree):\")\n",
    "print(y_pred_claims_dt)\n"
   ]
  },
  {
   "cell_type": "markdown",
   "id": "ea132bed",
   "metadata": {},
   "source": [
    "### Reandom Forest"
   ]
  },
  {
   "cell_type": "code",
   "execution_count": 26,
   "id": "b35fa60d",
   "metadata": {},
   "outputs": [],
   "source": [
    "# Random Forest\n",
    "rf_reg_premium = RandomForestRegressor(random_state=42, n_estimators=100)\n",
    "rf_reg_premium.fit(X_train, y_train_premium)\n",
    "y_pred_premium_rf = rf_reg_premium.predict(X_test)\n",
    "\n",
    "rf_reg_claims = RandomForestRegressor(random_state=42, n_estimators=100)\n",
    "rf_reg_claims.fit(X_train, y_train_claims)\n",
    "y_pred_claims_rf = rf_reg_claims.predict(X_test)"
   ]
  },
  {
   "cell_type": "markdown",
   "id": "4ed714b2",
   "metadata": {},
   "source": [
    "# Result "
   ]
  },
  {
   "cell_type": "code",
   "execution_count": 27,
   "id": "41e39546",
   "metadata": {},
   "outputs": [
    {
     "name": "stdout",
     "output_type": "stream",
     "text": [
      "Predicted Premiums (Random Forest):\n",
      "[ 7.08201754  5.80096491  4.89534737 ...  0.          0.\n",
      " 96.49122807]\n",
      "\n",
      "Predicted Claims (Random Forest):\n",
      "[0. 0. 0. ... 0. 0. 0.]\n"
     ]
    }
   ],
   "source": [
    "# Print predicted premiums (Random Forest)\n",
    "print(\"Predicted Premiums (Random Forest):\")\n",
    "print(y_pred_premium_rf)\n",
    "\n",
    "# Print predicted claims (Random Forest)\n",
    "print(\"\\nPredicted Claims (Random Forest):\")\n",
    "print(y_pred_claims_rf)\n"
   ]
  },
  {
   "cell_type": "markdown",
   "id": "8becb8d6",
   "metadata": {},
   "source": [
    "### XGBosst"
   ]
  },
  {
   "cell_type": "code",
   "execution_count": 28,
   "id": "32551f72",
   "metadata": {},
   "outputs": [],
   "source": [
    "# XGBoost\n",
    "xgb_reg_premium = xgb.XGBRegressor(random_state=42, n_estimators=100)\n",
    "xgb_reg_premium.fit(X_train, y_train_premium)\n",
    "y_pred_premium_xgb = xgb_reg_premium.predict(X_test)\n",
    "\n",
    "xgb_reg_claims = xgb.XGBRegressor(random_state=42, n_estimators=100)\n",
    "xgb_reg_claims.fit(X_train, y_train_claims)\n",
    "y_pred_claims_xgb = xgb_reg_claims.predict(X_test)"
   ]
  },
  {
   "cell_type": "markdown",
   "id": "e74af3b1",
   "metadata": {},
   "source": [
    "# Results "
   ]
  },
  {
   "cell_type": "code",
   "execution_count": 29,
   "id": "799c3911",
   "metadata": {},
   "outputs": [
    {
     "name": "stdout",
     "output_type": "stream",
     "text": [
      "Predicted Premiums (XGBoost):\n",
      "[7.0336018e+00 5.6402774e+00 5.0746369e+00 ... 1.4283515e-02 1.7855439e-02\n",
      " 9.5990402e+01]\n",
      "\n",
      "Predicted Claims (XGBoost):\n",
      "[-0.01408216 -0.01276096 -0.0139437  ... -0.01242465 -0.01395188\n",
      " -0.01146168]\n"
     ]
    }
   ],
   "source": [
    "# Print predicted premiums (XGBoost)\n",
    "print(\"Predicted Premiums (XGBoost):\")\n",
    "print(y_pred_premium_xgb)\n",
    "\n",
    "# Print predicted claims (XGBoost)\n",
    "print(\"\\nPredicted Claims (XGBoost):\")\n",
    "print(y_pred_claims_xgb)\n"
   ]
  },
  {
   "cell_type": "markdown",
   "id": "5d6adcb7",
   "metadata": {},
   "source": [
    "## Evaluating the Model "
   ]
  },
  {
   "cell_type": "code",
   "execution_count": 30,
   "id": "3824d757",
   "metadata": {},
   "outputs": [
    {
     "name": "stdout",
     "output_type": "stream",
     "text": [
      "Linear Regression - TotalPremium:  (58.10973961050672, 28215.290896686794, np.float64(167.97407804981933), 0.46798984003466526)\n",
      "Linear Regression - TotalClaims:  (58.1097396104991, 28215.290896685656, np.float64(167.97407804981594), 0.9947874950021134)\n",
      "Decision Tree - TotalPremium:  (0.3327357088524947, 12544.819990981248, np.float64(112.00366061420158), 0.7634625949958942)\n",
      "Decision Tree - TotalClaims:  (1.049087853787722, 16045.982211317385, np.float64(126.67273665362008), 0.9970356583322586)\n",
      "Random Forest - TotalPremium:  (0.3900782083952794, 5472.5330733440705, np.float64(73.97657111102184), 0.8968132844553716)\n",
      "Random Forest - TotalClaims:  (0.78528641480882, 12220.88620222068, np.float64(110.5481171355744), 0.9977423082171674)\n",
      "XGBoost - TotalPremium:  (1.2182627431568311, 16737.326763275643, np.float64(129.37282080590052), 0.6844112675879601)\n",
      "XGBoost - TotalClaims:  (52.16324322050216, 3200758.2085252316, np.float64(1789.0662951733318), 0.40869054938845106)\n"
     ]
    }
   ],
   "source": [
    "def evaluate_model(y_test, y_pred):\n",
    "    mae = mean_absolute_error(y_test, y_pred)\n",
    "    mse = mean_squared_error(y_test, y_pred)\n",
    "    rmse = np.sqrt(mse)\n",
    "    r2 = r2_score(y_test, y_pred)\n",
    "    return mae, mse, rmse, r2\n",
    "\n",
    "print(\"Linear Regression - TotalPremium: \", evaluate_model(y_test_premium, y_pred_premium_lr))\n",
    "print(\"Linear Regression - TotalClaims: \", evaluate_model(y_test_claims, y_pred_claims_lr))\n",
    "\n",
    "print(\"Decision Tree - TotalPremium: \", evaluate_model(y_test_premium, y_pred_premium_dt))\n",
    "print(\"Decision Tree - TotalClaims: \", evaluate_model(y_test_claims, y_pred_claims_dt))\n",
    "\n",
    "print(\"Random Forest - TotalPremium: \", evaluate_model(y_test_premium, y_pred_premium_rf))\n",
    "print(\"Random Forest - TotalClaims: \", evaluate_model(y_test_claims, y_pred_claims_rf))\n",
    "\n",
    "print(\"XGBoost - TotalPremium: \", evaluate_model(y_test_premium, y_pred_premium_xgb))\n",
    "print(\"XGBoost - TotalClaims: \", evaluate_model(y_test_claims, y_pred_claims_xgb))"
   ]
  },
  {
   "cell_type": "code",
   "execution_count": 31,
   "id": "c47e4e7e",
   "metadata": {},
   "outputs": [
    {
     "data": {
      "image/png": "[encoded data removed]",
      "text/plain": [
       "<Figure size 1000x600 with 1 Axes>"
      ]
     },
     "metadata": {},
     "output_type": "display_data"
    },
    {
     "data": {
      "image/png": "[encoded data removed]",
      "text/plain": [
       "<Figure size 1000x600 with 1 Axes>"
      ]
     },
     "metadata": {},
     "output_type": "display_data"
    },
    {
     "data": {
      "image/png": "[encoded data removed]",
      "text/plain": [
       "<Figure size 1000x600 with 1 Axes>"
      ]
     },
     "metadata": {},
     "output_type": "display_data"
    },
    {
     "data": {
      "image/png": "[encoded data removed]",
      "text/plain": [
       "<Figure size 1000x600 with 1 Axes>"
      ]
     },
     "metadata": {},
     "output_type": "display_data"
    }
   ],
   "source": [
    "\n",
    "def plot_feature_importance(model, features, title_suffix=\"\", color=\"skyblue\"):\n",
    "    \"\"\"\n",
    "    Plots the feature importance of a given model.\n",
    "\n",
    "    Parameters:\n",
    "    - model: trained ML model with `feature_importances_` attribute\n",
    "    - features: DataFrame containing feature columns\n",
    "    - title_suffix: additional info to add in the plot title\n",
    "    - color: color of the bars in the plot\n",
    "    \"\"\"\n",
    "    importance = model.feature_importances_\n",
    "    indices = np.argsort(importance)[::-1]\n",
    "    \n",
    "    plt.figure(figsize=(10, 6))\n",
    "    plt.title(f\"Feature Importance - {title_suffix}\")\n",
    "    plt.bar(range(len(indices)), importance[indices], align='center', color=color)\n",
    "    plt.xticks(range(len(indices)), [features.columns[i] for i in indices], rotation=90)\n",
    "    plt.xlabel(\"Features\")\n",
    "    plt.ylabel(\"Importance Score\")\n",
    "    plt.tight_layout()\n",
    "    plt.show()\n",
    "\n",
    "# --- Plotting for all models ---\n",
    "plot_feature_importance(rf_reg_premium, features, title_suffix=\"Random Forest - TotalPremium\")\n",
    "plot_feature_importance(rf_reg_claims, features, title_suffix=\"Random Forest - TotalClaims\")\n",
    "plot_feature_importance(xgb_reg_premium, features, title_suffix=\"XGBoost - TotalPremium\", color=\"orange\")\n",
    "plot_feature_importance(xgb_reg_claims, features, title_suffix=\"XGBoost - TotalClaims\", color=\"orange\")\n"
   ]
  },
  {
   "cell_type": "code",
   "execution_count": null,
   "id": "757a7d89",
   "metadata": {},
   "outputs": [],
   "source": []
  },
  {
   "cell_type": "code",
   "execution_count": null,
   "id": "eaf6ddad",
   "metadata": {},
   "outputs": [],
   "source": []
  }
 ],
 "metadata": {
  "kernelspec": {
   "display_name": ".venv",
   "language": "python",
   "name": "python3"
  },
  "language_info": {
   "codemirror_mode": {
    "name": "ipython",
    "version": 3
   },
   "file_extension": ".py",
   "mimetype": "text/x-python",
   "name": "python",
   "nbconvert_exporter": "python",
   "pygments_lexer": "ipython3",
   "version": "3.13.4"
  }
 },
 "nbformat": 4,
 "nbformat_minor": 5
}
