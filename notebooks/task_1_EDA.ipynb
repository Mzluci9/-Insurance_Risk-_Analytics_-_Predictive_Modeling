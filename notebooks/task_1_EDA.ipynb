{
 "cells": [
  {
   "cell_type": "markdown",
   "id": "8b8e021f",
   "metadata": {},
   "source": [
    "# Task 1 EDA"
   ]
  },
  {
   "cell_type": "markdown",
   "id": "9e45f816",
   "metadata": {},
   "source": [
    "# Import libreris "
   ]
  },
  {
   "cell_type": "code",
   "execution_count": null,
   "id": "8d0335ae",
   "metadata": {},
   "outputs": [],
   "source": [
    "import pandas as pd\n",
    "import numpy as np\n",
    "import seaborn as sns\n",
    "import matplotlib.pyplot as plt"
   ]
  },
  {
   "cell_type": "code",
   "execution_count": null,
   "id": "bbc8fc71",
   "metadata": {},
   "outputs": [],
   "source": []
  },
  {
   "cell_type": "code",
   "execution_count": null,
   "id": "c2641c0f",
   "metadata": {},
   "outputs": [],
   "source": []
  },
  {
   "cell_type": "code",
   "execution_count": null,
   "id": "62b38bbe",
   "metadata": {},
   "outputs": [],
   "source": []
  }
 ],
 "metadata": {
  "language_info": {
   "name": "python"
  }
 },
 "nbformat": 4,
 "nbformat_minor": 5
}
